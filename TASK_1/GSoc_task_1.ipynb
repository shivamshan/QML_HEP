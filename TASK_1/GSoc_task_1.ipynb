{
  "nbformat": 4,
  "nbformat_minor": 0,
  "metadata": {
    "colab": {
      "name": "GSoc_task_1",
      "provenance": []
    },
    "kernelspec": {
      "name": "python3",
      "display_name": "Python 3"
    },
    "language_info": {
      "name": "python"
    }
  },
  "cells": [
    {
      "cell_type": "code",
      "metadata": {
        "id": "I-u-FXBRdk05"
      },
      "source": [
        "try:\n",
        "    import cirq\n",
        "except ImportError:\n",
        "    print(\"installing cirq...\")\n",
        "    !pip install --quiet cirq\n",
        "    print(\"installed cirq.\")"
      ],
      "execution_count": 1,
      "outputs": []
    },
    {
      "cell_type": "markdown",
      "metadata": {
        "id": "Uyc3CGS6psV9"
      },
      "source": [
        "#**Part 1**"
      ]
    },
    {
      "cell_type": "code",
      "metadata": {
        "id": "xmcC7G2peiU7"
      },
      "source": [
        "import cirq\n",
        "import numpy as np\n",
        "import matplotlib.pyplot as plt\n",
        "from math import pi"
      ],
      "execution_count": 2,
      "outputs": []
    },
    {
      "cell_type": "code",
      "metadata": {
        "colab": {
          "base_uri": "https://localhost:8080/"
        },
        "id": "fZE-a_CYd0Zp",
        "outputId": "79e31053-66ce-4845-d4a1-0084a9190c53"
      },
      "source": [
        "from cirq.ops import CNOT,SWAP,X,H,rx\n",
        "circuit = cirq.Circuit()\n",
        "\n",
        "q0, q1,q2,q3,q4 = cirq.LineQubit.range(5)    #defining 5 qubits\n",
        "\n",
        "circuit.append([H(q0),H(q1),H(q2),H(q3),H(q4)])   #applying Hadamard gate on each qubit\n",
        "\n",
        "circuit.append([CNOT(q0,q1),CNOT(q1,q2),CNOT(q2,q3),CNOT(q3,q4)])    #applyting CNOT gates\n",
        "\n",
        "circuit.append(SWAP(q0,q4))   #applying SWAP gate\n",
        "\n",
        "circuit.append([rx(pi/2)(q0)])  # rotating qubit q0 by pi/2 radians around the Pauli 'X' axis\n",
        "\n",
        "print(circuit)  #plotting circuit"
      ],
      "execution_count": 3,
      "outputs": [
        {
          "output_type": "stream",
          "text": [
            "0: ───H───@───────────────×───Rx(0.5π)───\n",
            "          │               │\n",
            "1: ───H───X───@───────────┼──────────────\n",
            "              │           │\n",
            "2: ───H───────X───@───────┼──────────────\n",
            "                  │       │\n",
            "3: ───H───────────X───@───┼──────────────\n",
            "                      │   │\n",
            "4: ───H───────────────X───×──────────────\n"
          ],
          "name": "stdout"
        }
      ]
    },
    {
      "cell_type": "code",
      "metadata": {
        "id": "J5tme-mKd0cs"
      },
      "source": [
        ""
      ],
      "execution_count": 3,
      "outputs": []
    },
    {
      "cell_type": "markdown",
      "metadata": {
        "id": "VCrnLpiepwMc"
      },
      "source": [
        "#**Part 2**"
      ]
    },
    {
      "cell_type": "code",
      "metadata": {
        "colab": {
          "base_uri": "https://localhost:8080/"
        },
        "id": "2gpjXLJts4QF",
        "outputId": "20faa309-c2ed-4796-e341-7a78163f44ec"
      },
      "source": [
        "\n",
        "a = cirq.NamedQubit('a')    #defining a named qubit\n",
        "\n",
        "\n",
        "circuit_2 = cirq.Circuit([cirq.rx(pi / 30.0)(a) for t in range(100)])  #series of small cirq.Rx rotations\n",
        "print(circuit_2)\n",
        "\n"
      ],
      "execution_count": 4,
      "outputs": [
        {
          "output_type": "stream",
          "text": [
            "a: ───Rx(0.033π)───Rx(0.033π)───Rx(0.033π)───Rx(0.033π)───Rx(0.033π)───Rx(0.033π)───Rx(0.033π)───Rx(0.033π)───Rx(0.033π)───Rx(0.033π)───Rx(0.033π)───Rx(0.033π)───Rx(0.033π)───Rx(0.033π)───Rx(0.033π)───Rx(0.033π)───Rx(0.033π)───Rx(0.033π)───Rx(0.033π)───Rx(0.033π)───Rx(0.033π)───Rx(0.033π)───Rx(0.033π)───Rx(0.033π)───Rx(0.033π)───Rx(0.033π)───Rx(0.033π)───Rx(0.033π)───Rx(0.033π)───Rx(0.033π)───Rx(0.033π)───Rx(0.033π)───Rx(0.033π)───Rx(0.033π)───Rx(0.033π)───Rx(0.033π)───Rx(0.033π)───Rx(0.033π)───Rx(0.033π)───Rx(0.033π)───Rx(0.033π)───Rx(0.033π)───Rx(0.033π)───Rx(0.033π)───Rx(0.033π)───Rx(0.033π)───Rx(0.033π)───Rx(0.033π)───Rx(0.033π)───Rx(0.033π)───Rx(0.033π)───Rx(0.033π)───Rx(0.033π)───Rx(0.033π)───Rx(0.033π)───Rx(0.033π)───Rx(0.033π)───Rx(0.033π)───Rx(0.033π)───Rx(0.033π)───Rx(0.033π)───Rx(0.033π)───Rx(0.033π)───Rx(0.033π)───Rx(0.033π)───Rx(0.033π)───Rx(0.033π)───Rx(0.033π)───Rx(0.033π)───Rx(0.033π)───Rx(0.033π)───Rx(0.033π)───Rx(0.033π)───Rx(0.033π)───Rx(0.033π)───Rx(0.033π)───Rx(0.033π)───Rx(0.033π)───Rx(0.033π)───Rx(0.033π)───Rx(0.033π)───Rx(0.033π)───Rx(0.033π)───Rx(0.033π)───Rx(0.033π)───Rx(0.033π)───Rx(0.033π)───Rx(0.033π)───Rx(0.033π)───Rx(0.033π)───Rx(0.033π)───Rx(0.033π)───Rx(0.033π)───Rx(0.033π)───Rx(0.033π)───Rx(0.033π)───Rx(0.033π)───Rx(0.033π)───Rx(0.033π)───Rx(0.033π)───\n"
          ],
          "name": "stdout"
        }
      ]
    },
    {
      "cell_type": "code",
      "metadata": {
        "colab": {
          "base_uri": "https://localhost:8080/",
          "height": 278
        },
        "id": "g5HUK7lns4Se",
        "outputId": "53052a8f-ce7b-4db8-dada-6d626a57f8d5"
      },
      "source": [
        "\n",
        "\n",
        "probs = []   #list for collecting probabilities\n",
        "\n",
        "simulator=cirq.Simulator()\n",
        "\n",
        "for step in simulator.simulate_moment_steps(circuit_2):\n",
        "    prob = np.abs(step.state_vector()) ** 2\n",
        "    probs.append(prob[0])\n",
        "\n",
        "\n",
        "plt.plot(probs, 'o')\n",
        "plt.xlabel(\"Number of Rx rotations added\")\n",
        "plt.ylabel(\"Probability of [|0>] (ground) state\");"
      ],
      "execution_count": 5,
      "outputs": [
        {
          "output_type": "display_data",
          "data": {
            "image/png": "[encoded data removed]",
            "text/plain": [
              "<Figure size 432x288 with 1 Axes>"
            ]
          },
          "metadata": {
            "tags": [],
            "needs_background": "light"
          }
        }
      ]
    },
    {
      "cell_type": "code",
      "metadata": {
        "id": "rMa5O6627Cnw"
      },
      "source": [
        ""
      ],
      "execution_count": 5,
      "outputs": []
    }
  ]
}