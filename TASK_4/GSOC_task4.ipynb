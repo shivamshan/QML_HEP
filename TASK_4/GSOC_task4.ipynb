{
  "nbformat": 4,
  "nbformat_minor": 0,
  "metadata": {
    "colab": {
      "name": "GSOC_task4",
      "provenance": [],
      "collapsed_sections": []
    },
    "kernelspec": {
      "name": "python3",
      "display_name": "Python 3"
    },
    "language_info": {
      "name": "python"
    },
    "accelerator": "GPU"
  },
  "cells": [
    {
      "cell_type": "code",
      "metadata": {
        "id": "gceY0ypWTDtn"
      },
      "source": [
        ""
      ],
      "execution_count": null,
      "outputs": []
    },
    {
      "cell_type": "markdown",
      "metadata": {
        "id": "0bdqDG5PiwfW"
      },
      "source": [
        "## **NOTE: Intead of using the downloaded datasets, I have used the EnergyFlow python package to directly download the datset into python .**"
      ]
    },
    {
      "cell_type": "markdown",
      "metadata": {
        "id": "LrAh1OM4THbL"
      },
      "source": [
        "# PARTICLE-NET"
      ]
    },
    {
      "cell_type": "code",
      "metadata": {
        "colab": {
          "base_uri": "https://localhost:8080/"
        },
        "id": "wOeu31yvKO25",
        "outputId": "c4f1bf3c-0afc-44ed-e026-80fe80c81fac"
      },
      "source": [
        "%cd /content/"
      ],
      "execution_count": 70,
      "outputs": [
        {
          "output_type": "stream",
          "text": [
            "/content\n"
          ],
          "name": "stdout"
        }
      ]
    },
    {
      "cell_type": "markdown",
      "metadata": {
        "id": "28Dp0Qx9jE33"
      },
      "source": [
        ""
      ]
    },
    {
      "cell_type": "code",
      "metadata": {
        "colab": {
          "base_uri": "https://localhost:8080/"
        },
        "id": "qGX70ZhLJKyf",
        "outputId": "e57c7142-706a-48a6-abe2-06d904a1bad0"
      },
      "source": [
        "!git clone https://github.com/hqucms/ParticleNet.git"
      ],
      "execution_count": 71,
      "outputs": [
        {
          "output_type": "stream",
          "text": [
            "Cloning into 'ParticleNet'...\n",
            "remote: Enumerating objects: 20, done.\u001b[K\n",
            "remote: Total 20 (delta 0), reused 0 (delta 0), pack-reused 20\u001b[K\n",
            "Unpacking objects: 100% (20/20), done.\n"
          ],
          "name": "stdout"
        }
      ]
    },
    {
      "cell_type": "code",
      "metadata": {
        "colab": {
          "base_uri": "https://localhost:8080/"
        },
        "id": "D8N-3M44JdEs",
        "outputId": "23c4a0d3-f27d-4d60-92a5-7da9f7380b0e"
      },
      "source": [
        "!pwd"
      ],
      "execution_count": 72,
      "outputs": [
        {
          "output_type": "stream",
          "text": [
            "/content\n"
          ],
          "name": "stdout"
        }
      ]
    },
    {
      "cell_type": "code",
      "metadata": {
        "colab": {
          "base_uri": "https://localhost:8080/"
        },
        "id": "NPl_mZVwJhBj",
        "outputId": "d9908de3-345d-4eb0-d8ef-93d65e1a9223"
      },
      "source": [
        "!pip install energyflow"
      ],
      "execution_count": 73,
      "outputs": [
        {
          "output_type": "stream",
          "text": [
            "Requirement already satisfied: energyflow in /usr/local/lib/python3.7/dist-packages (1.3.2)\n",
            "Requirement already satisfied: wasserstein>=0.3.1 in /usr/local/lib/python3.7/dist-packages (from energyflow) (0.3.3)\n",
            "Requirement already satisfied: six>=1.10.0 in /usr/local/lib/python3.7/dist-packages (from energyflow) (1.15.0)\n",
            "Requirement already satisfied: numpy>=1.16.0 in /usr/local/lib/python3.7/dist-packages (from energyflow) (1.19.5)\n",
            "Requirement already satisfied: h5py>=2.9.0 in /usr/local/lib/python3.7/dist-packages (from energyflow) (2.10.0)\n",
            "Requirement already satisfied: wurlitzer>=1.0.0 in /usr/local/lib/python3.7/dist-packages (from wasserstein>=0.3.1->energyflow) (2.0.1)\n"
          ],
          "name": "stdout"
        }
      ]
    },
    {
      "cell_type": "code",
      "metadata": {
        "id": "7UzjSs1fJ36X"
      },
      "source": [
        "import energyflow"
      ],
      "execution_count": 74,
      "outputs": []
    },
    {
      "cell_type": "code",
      "metadata": {
        "id": "WERUXwN8JqRr"
      },
      "source": [
        "data=energyflow.qg_jets.load(num_data=100000, pad=True, ncol=4, generator='pythia',with_bc=False, cache_dir='~/.energyflow')"
      ],
      "execution_count": 75,
      "outputs": []
    },
    {
      "cell_type": "code",
      "metadata": {
        "id": "g6siFAqt1m0j"
      },
      "source": [
        "val_data=energyflow.qg_jets.load(num_data=40000, pad=True, ncol=4, generator='pythia',with_bc=False, cache_dir='~/.energyflow')"
      ],
      "execution_count": 76,
      "outputs": []
    },
    {
      "cell_type": "code",
      "metadata": {
        "id": "rVM4HZG-1zeG"
      },
      "source": [
        "val_p=val_data[0][:,:,1:3]\n",
        "val_f=val_data[0]\n",
        "val_m=(val_data[0][:,:,:]==0 ).astype(int)\n",
        "val_m=val_m.sum(axis=2,keepdims=True)/4"
      ],
      "execution_count": 77,
      "outputs": []
    },
    {
      "cell_type": "code",
      "metadata": {
        "colab": {
          "base_uri": "https://localhost:8080/"
        },
        "id": "2qWtthwRUsqJ",
        "outputId": "863aaf3d-17a5-4c4d-9149-668ade4d21e4"
      },
      "source": [
        "data[1]"
      ],
      "execution_count": 79,
      "outputs": [
        {
          "output_type": "execute_result",
          "data": {
            "text/plain": [
              "array([1., 1., 1., ..., 1., 0., 0.])"
            ]
          },
          "metadata": {
            "tags": []
          },
          "execution_count": 79
        }
      ]
    },
    {
      "cell_type": "code",
      "metadata": {
        "colab": {
          "base_uri": "https://localhost:8080/"
        },
        "id": "d0tkiBcaLzpr",
        "outputId": "6e5bfe9f-0661-4ac1-bd4a-ee97234b7c81"
      },
      "source": [
        "%cd /content/ParticleNet/tf-keras"
      ],
      "execution_count": 80,
      "outputs": [
        {
          "output_type": "stream",
          "text": [
            "/content/ParticleNet/tf-keras\n"
          ],
          "name": "stdout"
        }
      ]
    },
    {
      "cell_type": "code",
      "metadata": {
        "colab": {
          "base_uri": "https://localhost:8080/"
        },
        "id": "mxcNO75hQhF8",
        "outputId": "88402f08-2c6d-490f-f49f-0c546d10bf8b"
      },
      "source": [
        "p=data[0][:,:,1:3]\n",
        "p.shape"
      ],
      "execution_count": 81,
      "outputs": [
        {
          "output_type": "execute_result",
          "data": {
            "text/plain": [
              "(100000, 139, 2)"
            ]
          },
          "metadata": {
            "tags": []
          },
          "execution_count": 81
        }
      ]
    },
    {
      "cell_type": "code",
      "metadata": {
        "colab": {
          "base_uri": "https://localhost:8080/"
        },
        "id": "kHpMOQhlQhLg",
        "outputId": "16e8ad39-d1d0-459e-d608-81f77ffc3bb3"
      },
      "source": [
        "f=data[0]\n",
        "f.shape"
      ],
      "execution_count": 82,
      "outputs": [
        {
          "output_type": "execute_result",
          "data": {
            "text/plain": [
              "(100000, 139, 4)"
            ]
          },
          "metadata": {
            "tags": []
          },
          "execution_count": 82
        }
      ]
    },
    {
      "cell_type": "code",
      "metadata": {
        "colab": {
          "base_uri": "https://localhost:8080/"
        },
        "id": "e9INKlv1rnak",
        "outputId": "48532aca-3871-48ae-9f41-0ad7462bcd8a"
      },
      "source": [
        "m=(data[0][:,:,:]==0 ).astype(int)\n",
        "m=m.sum(axis=2,keepdims=True)/4\n",
        "# m=m.reshape(100000,1,139)\n",
        "m.shape\n",
        "# import numpy as np\n",
        "\n",
        "# m=np.ones((200000, 139,1 ))"
      ],
      "execution_count": 83,
      "outputs": [
        {
          "output_type": "execute_result",
          "data": {
            "text/plain": [
              "(100000, 139, 1)"
            ]
          },
          "metadata": {
            "tags": []
          },
          "execution_count": 83
        }
      ]
    },
    {
      "cell_type": "code",
      "metadata": {
        "id": "RyMyeTKYNZV5"
      },
      "source": [
        ""
      ],
      "execution_count": 13,
      "outputs": []
    },
    {
      "cell_type": "code",
      "metadata": {
        "id": "3l5bQrUjrngo"
      },
      "source": [
        "train_dataset={}\n",
        "train_dataset['points']=p\n",
        "train_dataset['features']=f\n",
        "train_dataset['mask']=m"
      ],
      "execution_count": 84,
      "outputs": []
    },
    {
      "cell_type": "code",
      "metadata": {
        "id": "Un09lODk3XCg"
      },
      "source": [
        "import tensorflow as tf\n",
        "from tensorflow import keras\n",
        "from tf_keras_model import get_particle_net, get_particle_net_lite"
      ],
      "execution_count": 85,
      "outputs": []
    },
    {
      "cell_type": "code",
      "metadata": {
        "colab": {
          "base_uri": "https://localhost:8080/"
        },
        "id": "9WNCZCYg3bJ1",
        "outputId": "b5bbf17b-1f4f-423f-b8d7-1bf7d2c2e238"
      },
      "source": [
        "model_type = 'particle_net_lite' # choose between 'particle_net' and 'particle_net_lite'\n",
        "num_classes = 2\n",
        "input_shapes = {k:train_dataset[k].shape[1:] for k in train_dataset}\n",
        "if 'lite' in model_type:\n",
        "    model = get_particle_net_lite(num_classes, input_shapes)\n",
        "else:\n",
        "    model = get_particle_net(num_classes,input_shapes)"
      ],
      "execution_count": 86,
      "outputs": [
        {
          "output_type": "stream",
          "text": [
            "WARNING:tensorflow:From /tensorflow-1.15.2/python3.7/tensorflow_core/python/ops/resource_variable_ops.py:1630: calling BaseResourceVariable.__init__ (from tensorflow.python.ops.resource_variable_ops) with constraint is deprecated and will be removed in a future version.\n",
            "Instructions for updating:\n",
            "If using Keras pass *_constraint arguments to layers.\n"
          ],
          "name": "stdout"
        }
      ]
    },
    {
      "cell_type": "code",
      "metadata": {
        "id": "Qiz_AJbN3bMx"
      },
      "source": [
        "batch_size=1024"
      ],
      "execution_count": 87,
      "outputs": []
    },
    {
      "cell_type": "code",
      "metadata": {
        "id": "Z21RMWJt3bPZ"
      },
      "source": [
        "def lr_schedule(epoch):\n",
        "    lr = 1e-3\n",
        "    if epoch > 10:\n",
        "        lr *= 0.1\n",
        "    elif epoch > 20:\n",
        "        lr *= 0.01\n",
        "    logging.info('Learning rate: %f'%lr)\n",
        "    return lr"
      ],
      "execution_count": 88,
      "outputs": []
    },
    {
      "cell_type": "code",
      "metadata": {
        "id": "J0gcDk91_bkO"
      },
      "source": [
        "import logging\n",
        "logging.basicConfig(level=logging.INFO, format='[%(asctime)s] %(levelname)s: %(message)s')"
      ],
      "execution_count": 89,
      "outputs": []
    },
    {
      "cell_type": "code",
      "metadata": {
        "colab": {
          "base_uri": "https://localhost:8080/"
        },
        "id": "KE15Op8W3bSR",
        "outputId": "35515fd8-6ae6-4bd5-b53c-f2b67abbd1f5"
      },
      "source": [
        "model.compile(loss='categorical_crossentropy',\n",
        "              optimizer=keras.optimizers.Adam(learning_rate=lr_schedule(0)),\n",
        "              metrics=['accuracy'])\n",
        "model.summary()"
      ],
      "execution_count": 90,
      "outputs": [
        {
          "output_type": "stream",
          "text": [
            "[2021-03-22 18:22:08,263] INFO: Learning rate: 0.001000\n"
          ],
          "name": "stderr"
        },
        {
          "output_type": "stream",
          "text": [
            "Model: \"ParticleNet\"\n",
            "__________________________________________________________________________________________________\n",
            "Layer (type)                    Output Shape         Param #     Connected to                     \n",
            "==================================================================================================\n",
            "mask (InputLayer)               [(None, 139, 1)]     0                                            \n",
            "__________________________________________________________________________________________________\n",
            "tf_op_layer_ParticleNet/NotEqua [(None, 139, 1)]     0           mask[0][0]                       \n",
            "__________________________________________________________________________________________________\n",
            "tf_op_layer_ParticleNet/Cast (T [(None, 139, 1)]     0           tf_op_layer_ParticleNet/NotEqual[\n",
            "__________________________________________________________________________________________________\n",
            "tf_op_layer_ParticleNet/Equal ( [(None, 139, 1)]     0           tf_op_layer_ParticleNet/Cast[0][0\n",
            "__________________________________________________________________________________________________\n",
            "tf_op_layer_ParticleNet/Cast_1  [(None, 139, 1)]     0           tf_op_layer_ParticleNet/Equal[0][\n",
            "__________________________________________________________________________________________________\n",
            "tf_op_layer_ParticleNet/Mul (Te [(None, 139, 1)]     0           tf_op_layer_ParticleNet/Cast_1[0]\n",
            "__________________________________________________________________________________________________\n",
            "points (InputLayer)             [(None, 139, 2)]     0                                            \n",
            "__________________________________________________________________________________________________\n",
            "tf_op_layer_ParticleNet/Add (Te [(None, 139, 2)]     0           tf_op_layer_ParticleNet/Mul[0][0]\n",
            "                                                                 points[0][0]                     \n",
            "__________________________________________________________________________________________________\n",
            "features (InputLayer)           [(None, 139, 4)]     0                                            \n",
            "__________________________________________________________________________________________________\n",
            "tf_op_layer_ParticleNet/edgecon [(None, 2, 139)]     0           tf_op_layer_ParticleNet/Add[0][0]\n",
            "__________________________________________________________________________________________________\n",
            "tf_op_layer_ParticleNet/ExpandD [(None, 139, 1, 4)]  0           features[0][0]                   \n",
            "__________________________________________________________________________________________________\n",
            "tf_op_layer_ParticleNet/edgecon [(None, 139, 2)]     0           tf_op_layer_ParticleNet/Add[0][0]\n",
            "                                                                 tf_op_layer_ParticleNet/Add[0][0]\n",
            "__________________________________________________________________________________________________\n",
            "tf_op_layer_ParticleNet/edgecon [(None, 139, 139)]   0           tf_op_layer_ParticleNet/Add[0][0]\n",
            "                                                                 tf_op_layer_ParticleNet/edgeconv/\n",
            "__________________________________________________________________________________________________\n",
            "tf_op_layer_ParticleNet/edgecon [(None, 139, 2)]     0           tf_op_layer_ParticleNet/Add[0][0]\n",
            "                                                                 tf_op_layer_ParticleNet/Add[0][0]\n",
            "__________________________________________________________________________________________________\n",
            "ParticleNet_fts_bn (BatchNormal (None, 139, 1, 4)    16          tf_op_layer_ParticleNet/ExpandDim\n",
            "__________________________________________________________________________________________________\n",
            "tf_op_layer_ParticleNet/edgecon [(None, 139, 1)]     0           tf_op_layer_ParticleNet/edgeconv/\n",
            "__________________________________________________________________________________________________\n",
            "tf_op_layer_ParticleNet/edgecon [(None, 139, 139)]   0           tf_op_layer_ParticleNet/edgeconv/\n",
            "__________________________________________________________________________________________________\n",
            "tf_op_layer_ParticleNet/edgecon [(None, 139, 1)]     0           tf_op_layer_ParticleNet/edgeconv/\n",
            "__________________________________________________________________________________________________\n",
            "tf_op_layer_ParticleNet/Squeeze [(None, 139, 4)]     0           ParticleNet_fts_bn[0][0]         \n",
            "__________________________________________________________________________________________________\n",
            "tf_op_layer_ParticleNet/edgecon [(None, 139, 139)]   0           tf_op_layer_ParticleNet/edgeconv/\n",
            "                                                                 tf_op_layer_ParticleNet/edgeconv/\n",
            "__________________________________________________________________________________________________\n",
            "tf_op_layer_ParticleNet/edgecon [(None, 1, 139)]     0           tf_op_layer_ParticleNet/edgeconv/\n",
            "__________________________________________________________________________________________________\n",
            "tf_op_layer_ParticleNet/edgecon [(3,)]               0           tf_op_layer_ParticleNet/Squeeze[0\n",
            "__________________________________________________________________________________________________\n",
            "tf_op_layer_ParticleNet/edgecon [(None, 139, 139)]   0           tf_op_layer_ParticleNet/edgeconv/\n",
            "                                                                 tf_op_layer_ParticleNet/edgeconv/\n",
            "__________________________________________________________________________________________________\n",
            "tf_op_layer_ParticleNet/edgecon [()]                 0           tf_op_layer_ParticleNet/edgeconv/\n",
            "__________________________________________________________________________________________________\n",
            "tf_op_layer_ParticleNet/edgecon [(None, 139, 139)]   0           tf_op_layer_ParticleNet/edgeconv/\n",
            "__________________________________________________________________________________________________\n",
            "tf_op_layer_ParticleNet/edgecon [(None,)]            0           tf_op_layer_ParticleNet/edgeconv/\n",
            "__________________________________________________________________________________________________\n",
            "tf_op_layer_ParticleNet/edgecon [(None, 139, 8), (No 0           tf_op_layer_ParticleNet/edgeconv/\n",
            "__________________________________________________________________________________________________\n",
            "tf_op_layer_ParticleNet/edgecon [(None, 1, 1, 1)]    0           tf_op_layer_ParticleNet/edgeconv/\n",
            "__________________________________________________________________________________________________\n",
            "tf_op_layer_ParticleNet/edgecon [(None, 139, 7)]     0           tf_op_layer_ParticleNet/edgeconv/\n",
            "__________________________________________________________________________________________________\n",
            "tf_op_layer_ParticleNet/edgecon [(None, 139, 7, 1)]  0           tf_op_layer_ParticleNet/edgeconv/\n",
            "__________________________________________________________________________________________________\n",
            "tf_op_layer_ParticleNet/edgecon [(None, 139, 7, 1)]  0           tf_op_layer_ParticleNet/edgeconv/\n",
            "__________________________________________________________________________________________________\n",
            "tf_op_layer_ParticleNet/edgecon [(None, 139, 1, 4)]  0           tf_op_layer_ParticleNet/Squeeze[0\n",
            "__________________________________________________________________________________________________\n",
            "tf_op_layer_ParticleNet/edgecon [(None, 139, 7, 2)]  0           tf_op_layer_ParticleNet/edgeconv/\n",
            "                                                                 tf_op_layer_ParticleNet/edgeconv/\n",
            "__________________________________________________________________________________________________\n",
            "tf_op_layer_ParticleNet/edgecon [(None, 139, 7, 4)]  0           tf_op_layer_ParticleNet/edgeconv/\n",
            "__________________________________________________________________________________________________\n",
            "tf_op_layer_ParticleNet/edgecon [(None, 139, 7, 4)]  0           tf_op_layer_ParticleNet/Squeeze[0\n",
            "                                                                 tf_op_layer_ParticleNet/edgeconv/\n",
            "__________________________________________________________________________________________________\n",
            "tf_op_layer_ParticleNet/edgecon [(None, 139, 7, 4)]  0           tf_op_layer_ParticleNet/edgeconv/\n",
            "                                                                 tf_op_layer_ParticleNet/edgeconv/\n",
            "__________________________________________________________________________________________________\n",
            "tf_op_layer_ParticleNet/edgecon [(None, 139, 7, 8)]  0           tf_op_layer_ParticleNet/edgeconv/\n",
            "                                                                 tf_op_layer_ParticleNet/edgeconv/\n",
            "__________________________________________________________________________________________________\n",
            "ParticleNet_EdgeConv0_conv0 (Co (None, 139, 7, 32)   256         tf_op_layer_ParticleNet/edgeconv/\n",
            "__________________________________________________________________________________________________\n",
            "ParticleNet_EdgeConv0_bn0 (Batc (None, 139, 7, 32)   128         ParticleNet_EdgeConv0_conv0[0][0]\n",
            "__________________________________________________________________________________________________\n",
            "ParticleNet_EdgeConv0_act0 (Act (None, 139, 7, 32)   0           ParticleNet_EdgeConv0_bn0[0][0]  \n",
            "__________________________________________________________________________________________________\n",
            "ParticleNet_EdgeConv0_conv1 (Co (None, 139, 7, 32)   1024        ParticleNet_EdgeConv0_act0[0][0] \n",
            "__________________________________________________________________________________________________\n",
            "ParticleNet_EdgeConv0_bn1 (Batc (None, 139, 7, 32)   128         ParticleNet_EdgeConv0_conv1[0][0]\n",
            "__________________________________________________________________________________________________\n",
            "ParticleNet_EdgeConv0_act1 (Act (None, 139, 7, 32)   0           ParticleNet_EdgeConv0_bn1[0][0]  \n",
            "__________________________________________________________________________________________________\n",
            "tf_op_layer_ParticleNet/edgecon [(None, 139, 1, 4)]  0           tf_op_layer_ParticleNet/Squeeze[0\n",
            "__________________________________________________________________________________________________\n",
            "ParticleNet_EdgeConv0_conv2 (Co (None, 139, 7, 32)   1024        ParticleNet_EdgeConv0_act1[0][0] \n",
            "__________________________________________________________________________________________________\n",
            "ParticleNet_EdgeConv0_sc_conv ( (None, 139, 1, 32)   128         tf_op_layer_ParticleNet/edgeconv/\n",
            "__________________________________________________________________________________________________\n",
            "ParticleNet_EdgeConv0_bn2 (Batc (None, 139, 7, 32)   128         ParticleNet_EdgeConv0_conv2[0][0]\n",
            "__________________________________________________________________________________________________\n",
            "ParticleNet_EdgeConv0_sc_bn (Ba (None, 139, 1, 32)   128         ParticleNet_EdgeConv0_sc_conv[0][\n",
            "__________________________________________________________________________________________________\n",
            "ParticleNet_EdgeConv0_act2 (Act (None, 139, 7, 32)   0           ParticleNet_EdgeConv0_bn2[0][0]  \n",
            "__________________________________________________________________________________________________\n",
            "tf_op_layer_ParticleNet/edgecon [(None, 139, 32)]    0           ParticleNet_EdgeConv0_sc_bn[0][0]\n",
            "__________________________________________________________________________________________________\n",
            "tf_op_layer_ParticleNet/edgecon [(None, 139, 32)]    0           ParticleNet_EdgeConv0_act2[0][0] \n",
            "__________________________________________________________________________________________________\n",
            "tf_op_layer_ParticleNet/edgecon [(None, 139, 32)]    0           tf_op_layer_ParticleNet/edgeconv/\n",
            "                                                                 tf_op_layer_ParticleNet/edgeconv/\n",
            "__________________________________________________________________________________________________\n",
            "ParticleNet_EdgeConv0_sc_act (A (None, 139, 32)      0           tf_op_layer_ParticleNet/edgeconv/\n",
            "__________________________________________________________________________________________________\n",
            "tf_op_layer_ParticleNet/Add_1 ( [(None, 139, 32)]    0           tf_op_layer_ParticleNet/Mul[0][0]\n",
            "                                                                 ParticleNet_EdgeConv0_sc_act[0][0\n",
            "__________________________________________________________________________________________________\n",
            "tf_op_layer_ParticleNet/edgecon [(None, 32, 139)]    0           tf_op_layer_ParticleNet/Add_1[0][\n",
            "__________________________________________________________________________________________________\n",
            "tf_op_layer_ParticleNet/edgecon [(None, 139, 32)]    0           tf_op_layer_ParticleNet/Add_1[0][\n",
            "                                                                 tf_op_layer_ParticleNet/Add_1[0][\n",
            "__________________________________________________________________________________________________\n",
            "tf_op_layer_ParticleNet/edgecon [(None, 139, 139)]   0           tf_op_layer_ParticleNet/Add_1[0][\n",
            "                                                                 tf_op_layer_ParticleNet/edgeconv_\n",
            "__________________________________________________________________________________________________\n",
            "tf_op_layer_ParticleNet/edgecon [(None, 139, 32)]    0           tf_op_layer_ParticleNet/Add_1[0][\n",
            "                                                                 tf_op_layer_ParticleNet/Add_1[0][\n",
            "__________________________________________________________________________________________________\n",
            "tf_op_layer_ParticleNet/edgecon [(None, 139, 1)]     0           tf_op_layer_ParticleNet/edgeconv_\n",
            "__________________________________________________________________________________________________\n",
            "tf_op_layer_ParticleNet/edgecon [(None, 139, 139)]   0           tf_op_layer_ParticleNet/edgeconv_\n",
            "__________________________________________________________________________________________________\n",
            "tf_op_layer_ParticleNet/edgecon [(None, 139, 1)]     0           tf_op_layer_ParticleNet/edgeconv_\n",
            "__________________________________________________________________________________________________\n",
            "tf_op_layer_ParticleNet/edgecon [(None, 139, 139)]   0           tf_op_layer_ParticleNet/edgeconv_\n",
            "                                                                 tf_op_layer_ParticleNet/edgeconv_\n",
            "__________________________________________________________________________________________________\n",
            "tf_op_layer_ParticleNet/edgecon [(None, 1, 139)]     0           tf_op_layer_ParticleNet/edgeconv_\n",
            "__________________________________________________________________________________________________\n",
            "tf_op_layer_ParticleNet/edgecon [(3,)]               0           ParticleNet_EdgeConv0_sc_act[0][0\n",
            "__________________________________________________________________________________________________\n",
            "tf_op_layer_ParticleNet/edgecon [(None, 139, 139)]   0           tf_op_layer_ParticleNet/edgeconv_\n",
            "                                                                 tf_op_layer_ParticleNet/edgeconv_\n",
            "__________________________________________________________________________________________________\n",
            "tf_op_layer_ParticleNet/edgecon [()]                 0           tf_op_layer_ParticleNet/edgeconv_\n",
            "__________________________________________________________________________________________________\n",
            "tf_op_layer_ParticleNet/edgecon [(None, 139, 139)]   0           tf_op_layer_ParticleNet/edgeconv_\n",
            "__________________________________________________________________________________________________\n",
            "tf_op_layer_ParticleNet/edgecon [(None,)]            0           tf_op_layer_ParticleNet/edgeconv_\n",
            "__________________________________________________________________________________________________\n",
            "tf_op_layer_ParticleNet/edgecon [(None, 139, 8), (No 0           tf_op_layer_ParticleNet/edgeconv_\n",
            "__________________________________________________________________________________________________\n",
            "tf_op_layer_ParticleNet/edgecon [(None, 1, 1, 1)]    0           tf_op_layer_ParticleNet/edgeconv_\n",
            "__________________________________________________________________________________________________\n",
            "tf_op_layer_ParticleNet/edgecon [(None, 139, 7)]     0           tf_op_layer_ParticleNet/edgeconv_\n",
            "__________________________________________________________________________________________________\n",
            "tf_op_layer_ParticleNet/edgecon [(None, 139, 7, 1)]  0           tf_op_layer_ParticleNet/edgeconv_\n",
            "__________________________________________________________________________________________________\n",
            "tf_op_layer_ParticleNet/edgecon [(None, 139, 7, 1)]  0           tf_op_layer_ParticleNet/edgeconv_\n",
            "__________________________________________________________________________________________________\n",
            "tf_op_layer_ParticleNet/edgecon [(None, 139, 1, 32)] 0           ParticleNet_EdgeConv0_sc_act[0][0\n",
            "__________________________________________________________________________________________________\n",
            "tf_op_layer_ParticleNet/edgecon [(None, 139, 7, 2)]  0           tf_op_layer_ParticleNet/edgeconv_\n",
            "                                                                 tf_op_layer_ParticleNet/edgeconv_\n",
            "__________________________________________________________________________________________________\n",
            "tf_op_layer_ParticleNet/edgecon [(None, 139, 7, 32)] 0           tf_op_layer_ParticleNet/edgeconv_\n",
            "__________________________________________________________________________________________________\n",
            "tf_op_layer_ParticleNet/edgecon [(None, 139, 7, 32)] 0           ParticleNet_EdgeConv0_sc_act[0][0\n",
            "                                                                 tf_op_layer_ParticleNet/edgeconv_\n",
            "__________________________________________________________________________________________________\n",
            "tf_op_layer_ParticleNet/edgecon [(None, 139, 7, 32)] 0           tf_op_layer_ParticleNet/edgeconv_\n",
            "                                                                 tf_op_layer_ParticleNet/edgeconv_\n",
            "__________________________________________________________________________________________________\n",
            "tf_op_layer_ParticleNet/edgecon [(None, 139, 7, 64)] 0           tf_op_layer_ParticleNet/edgeconv_\n",
            "                                                                 tf_op_layer_ParticleNet/edgeconv_\n",
            "__________________________________________________________________________________________________\n",
            "ParticleNet_EdgeConv1_conv0 (Co (None, 139, 7, 64)   4096        tf_op_layer_ParticleNet/edgeconv_\n",
            "__________________________________________________________________________________________________\n",
            "ParticleNet_EdgeConv1_bn0 (Batc (None, 139, 7, 64)   256         ParticleNet_EdgeConv1_conv0[0][0]\n",
            "__________________________________________________________________________________________________\n",
            "ParticleNet_EdgeConv1_act0 (Act (None, 139, 7, 64)   0           ParticleNet_EdgeConv1_bn0[0][0]  \n",
            "__________________________________________________________________________________________________\n",
            "ParticleNet_EdgeConv1_conv1 (Co (None, 139, 7, 64)   4096        ParticleNet_EdgeConv1_act0[0][0] \n",
            "__________________________________________________________________________________________________\n",
            "ParticleNet_EdgeConv1_bn1 (Batc (None, 139, 7, 64)   256         ParticleNet_EdgeConv1_conv1[0][0]\n",
            "__________________________________________________________________________________________________\n",
            "ParticleNet_EdgeConv1_act1 (Act (None, 139, 7, 64)   0           ParticleNet_EdgeConv1_bn1[0][0]  \n",
            "__________________________________________________________________________________________________\n",
            "tf_op_layer_ParticleNet/edgecon [(None, 139, 1, 32)] 0           ParticleNet_EdgeConv0_sc_act[0][0\n",
            "__________________________________________________________________________________________________\n",
            "ParticleNet_EdgeConv1_conv2 (Co (None, 139, 7, 64)   4096        ParticleNet_EdgeConv1_act1[0][0] \n",
            "__________________________________________________________________________________________________\n",
            "ParticleNet_EdgeConv1_sc_conv ( (None, 139, 1, 64)   2048        tf_op_layer_ParticleNet/edgeconv_\n",
            "__________________________________________________________________________________________________\n",
            "ParticleNet_EdgeConv1_bn2 (Batc (None, 139, 7, 64)   256         ParticleNet_EdgeConv1_conv2[0][0]\n",
            "__________________________________________________________________________________________________\n",
            "ParticleNet_EdgeConv1_sc_bn (Ba (None, 139, 1, 64)   256         ParticleNet_EdgeConv1_sc_conv[0][\n",
            "__________________________________________________________________________________________________\n",
            "ParticleNet_EdgeConv1_act2 (Act (None, 139, 7, 64)   0           ParticleNet_EdgeConv1_bn2[0][0]  \n",
            "__________________________________________________________________________________________________\n",
            "tf_op_layer_ParticleNet/edgecon [(None, 139, 64)]    0           ParticleNet_EdgeConv1_sc_bn[0][0]\n",
            "__________________________________________________________________________________________________\n",
            "tf_op_layer_ParticleNet/edgecon [(None, 139, 64)]    0           ParticleNet_EdgeConv1_act2[0][0] \n",
            "__________________________________________________________________________________________________\n",
            "tf_op_layer_ParticleNet/edgecon [(None, 139, 64)]    0           tf_op_layer_ParticleNet/edgeconv_\n",
            "                                                                 tf_op_layer_ParticleNet/edgeconv_\n",
            "__________________________________________________________________________________________________\n",
            "ParticleNet_EdgeConv1_sc_act (A (None, 139, 64)      0           tf_op_layer_ParticleNet/edgeconv_\n",
            "__________________________________________________________________________________________________\n",
            "tf_op_layer_ParticleNet/Mul_1 ( [(None, 139, 64)]    0           ParticleNet_EdgeConv1_sc_act[0][0\n",
            "                                                                 tf_op_layer_ParticleNet/Cast[0][0\n",
            "__________________________________________________________________________________________________\n",
            "tf_op_layer_ParticleNet/Mean (T [(None, 64)]         0           tf_op_layer_ParticleNet/Mul_1[0][\n",
            "__________________________________________________________________________________________________\n",
            "dense (Dense)                   (None, 128)          8320        tf_op_layer_ParticleNet/Mean[0][0\n",
            "__________________________________________________________________________________________________\n",
            "dropout (Dropout)               (None, 128)          0           dense[0][0]                      \n",
            "__________________________________________________________________________________________________\n",
            "dense_1 (Dense)                 (None, 2)            258         dropout[0][0]                    \n",
            "==================================================================================================\n",
            "Total params: 26,898\n",
            "Trainable params: 26,122\n",
            "Non-trainable params: 776\n",
            "__________________________________________________________________________________________________\n"
          ],
          "name": "stdout"
        }
      ]
    },
    {
      "cell_type": "code",
      "metadata": {
        "colab": {
          "base_uri": "https://localhost:8080/"
        },
        "id": "ljf9Hx62XUfl",
        "outputId": "11e8ed42-a871-4ca3-a3d3-d98cda4f98f3"
      },
      "source": [
        "import numpy as np\n",
        "data1=data[1][:,np.newaxis]\n",
        "data1.shape"
      ],
      "execution_count": 92,
      "outputs": [
        {
          "output_type": "execute_result",
          "data": {
            "text/plain": [
              "(100000, 1)"
            ]
          },
          "metadata": {
            "tags": []
          },
          "execution_count": 92
        }
      ]
    },
    {
      "cell_type": "code",
      "metadata": {
        "colab": {
          "base_uri": "https://localhost:8080/"
        },
        "id": "tQXVq9ojXALw",
        "outputId": "5fae530b-eb36-4111-9cda-08a304f65dc0"
      },
      "source": [
        "from sklearn.preprocessing import OneHotEncoder\n",
        "\n",
        "\n",
        "enc = OneHotEncoder()\n",
        "enc.fit(data1)\n",
        "out = enc.transform(data1).toarray()\n",
        "out"
      ],
      "execution_count": 93,
      "outputs": [
        {
          "output_type": "execute_result",
          "data": {
            "text/plain": [
              "array([[0., 1.],\n",
              "       [0., 1.],\n",
              "       [0., 1.],\n",
              "       ...,\n",
              "       [0., 1.],\n",
              "       [1., 0.],\n",
              "       [1., 0.]])"
            ]
          },
          "metadata": {
            "tags": []
          },
          "execution_count": 93
        }
      ]
    },
    {
      "cell_type": "code",
      "metadata": {
        "colab": {
          "base_uri": "https://localhost:8080/"
        },
        "id": "-pjLkJbBdBYD",
        "outputId": "7b164672-4fe5-4a7f-9cca-1ee04682f800"
      },
      "source": [
        "\n",
        "data2=val_data[1][:,np.newaxis]\n",
        "enc2 = OneHotEncoder()\n",
        "enc2.fit(data2)\n",
        "out2 = enc.transform(data2).toarray()\n",
        "out2.shape"
      ],
      "execution_count": 94,
      "outputs": [
        {
          "output_type": "execute_result",
          "data": {
            "text/plain": [
              "(40000, 2)"
            ]
          },
          "metadata": {
            "tags": []
          },
          "execution_count": 94
        }
      ]
    },
    {
      "cell_type": "code",
      "metadata": {
        "colab": {
          "base_uri": "https://localhost:8080/"
        },
        "id": "uOo7RrmudyWx",
        "outputId": "168f936a-035c-4371-ba7b-76548f85deff"
      },
      "source": [
        "out2"
      ],
      "execution_count": 95,
      "outputs": [
        {
          "output_type": "execute_result",
          "data": {
            "text/plain": [
              "array([[0., 1.],\n",
              "       [0., 1.],\n",
              "       [0., 1.],\n",
              "       ...,\n",
              "       [1., 0.],\n",
              "       [1., 0.],\n",
              "       [0., 1.]])"
            ]
          },
          "metadata": {
            "tags": []
          },
          "execution_count": 95
        }
      ]
    },
    {
      "cell_type": "code",
      "metadata": {
        "colab": {
          "base_uri": "https://localhost:8080/"
        },
        "id": "EpzWjKFd_gF9",
        "outputId": "4cf0bcb6-00e1-4471-d80d-424bcc9b79ae"
      },
      "source": [
        "\n",
        "model.fit([p,f,m], out,\n",
        "          batch_size=batch_size,\n",
        "#           epochs=epochs,\n",
        "          epochs=10,\n",
        "          validation_data=([val_p,val_f,val_m], out2),\n",
        "          shuffle=True,\n",
        "          # callbacks=callbacks)\n",
        ")"
      ],
      "execution_count": 97,
      "outputs": [
        {
          "output_type": "stream",
          "text": [
            "Train on 100000 samples, validate on 40000 samples\n",
            "Epoch 1/10\n",
            "100000/100000 [==============================] - 93s 928us/sample - loss: 0.5812 - acc: 0.7303 - val_loss: 0.7005 - val_acc: 0.5033\n",
            "Epoch 2/10\n",
            "100000/100000 [==============================] - 93s 926us/sample - loss: 0.5214 - acc: 0.7533 - val_loss: 0.5575 - val_acc: 0.7393\n",
            "Epoch 3/10\n",
            "100000/100000 [==============================] - 93s 925us/sample - loss: 0.5053 - acc: 0.7591 - val_loss: 0.4971 - val_acc: 0.7642\n",
            "Epoch 4/10\n",
            "100000/100000 [==============================] - 93s 927us/sample - loss: 0.5015 - acc: 0.7602 - val_loss: 0.5474 - val_acc: 0.7393\n",
            "Epoch 5/10\n",
            "100000/100000 [==============================] - 93s 926us/sample - loss: 0.5014 - acc: 0.7607 - val_loss: 0.4951 - val_acc: 0.7673\n",
            "Epoch 6/10\n",
            "100000/100000 [==============================] - 93s 926us/sample - loss: 0.4974 - acc: 0.7634 - val_loss: 0.4935 - val_acc: 0.7673\n",
            "Epoch 7/10\n",
            "100000/100000 [==============================] - 92s 923us/sample - loss: 0.4966 - acc: 0.7641 - val_loss: 0.4912 - val_acc: 0.7642\n",
            "Epoch 8/10\n",
            "100000/100000 [==============================] - 92s 925us/sample - loss: 0.4962 - acc: 0.7645 - val_loss: 0.4917 - val_acc: 0.7673\n",
            "Epoch 9/10\n",
            "100000/100000 [==============================] - 92s 924us/sample - loss: 0.4958 - acc: 0.7651 - val_loss: 0.4916 - val_acc: 0.7673\n",
            "Epoch 10/10\n",
            "100000/100000 [==============================] - 93s 926us/sample - loss: 0.4967 - acc: 0.7642 - val_loss: 0.4926 - val_acc: 0.7677\n"
          ],
          "name": "stdout"
        },
        {
          "output_type": "execute_result",
          "data": {
            "text/plain": [
              "<tensorflow.python.keras.callbacks.History at 0x7f4ba042e410>"
            ]
          },
          "metadata": {
            "tags": []
          },
          "execution_count": 97
        }
      ]
    },
    {
      "cell_type": "code",
      "metadata": {
        "id": "9TDfvnvk_gJH"
      },
      "source": [
        ""
      ],
      "execution_count": null,
      "outputs": []
    },
    {
      "cell_type": "code",
      "metadata": {
        "id": "A7CS4I6GS7Zq"
      },
      "source": [
        ""
      ],
      "execution_count": null,
      "outputs": []
    },
    {
      "cell_type": "code",
      "metadata": {
        "id": "dZzXTWwFTL11"
      },
      "source": [
        ""
      ],
      "execution_count": null,
      "outputs": []
    },
    {
      "cell_type": "markdown",
      "metadata": {
        "id": "N68N532STMWC"
      },
      "source": [
        "# ABC NET(modified GAPNet)"
      ]
    },
    {
      "cell_type": "code",
      "metadata": {
        "colab": {
          "base_uri": "https://localhost:8080/"
        },
        "id": "5UZaHoQTTgGL",
        "outputId": "a6d03b8f-e4fd-466d-8c77-f95614df4b88"
      },
      "source": [
        "%cd /content"
      ],
      "execution_count": 98,
      "outputs": [
        {
          "output_type": "stream",
          "text": [
            "/content\n"
          ],
          "name": "stdout"
        }
      ]
    },
    {
      "cell_type": "code",
      "metadata": {
        "colab": {
          "base_uri": "https://localhost:8080/"
        },
        "id": "jm42uNjYTjcm",
        "outputId": "fc43acf7-2a82-4bfa-a32e-ff5049ae6e52"
      },
      "source": [
        "!pwd"
      ],
      "execution_count": 99,
      "outputs": [
        {
          "output_type": "stream",
          "text": [
            "/content\n"
          ],
          "name": "stdout"
        }
      ]
    },
    {
      "cell_type": "code",
      "metadata": {
        "colab": {
          "base_uri": "https://localhost:8080/"
        },
        "id": "q7R85o7uS7cj",
        "outputId": "a1aca16c-3e95-4dad-8922-6909de026b2e"
      },
      "source": [
        "! git clone https://github.com/shivamshan/ABCNet.git"
      ],
      "execution_count": 100,
      "outputs": [
        {
          "output_type": "stream",
          "text": [
            "fatal: destination path 'ABCNet' already exists and is not an empty directory.\n"
          ],
          "name": "stdout"
        }
      ]
    },
    {
      "cell_type": "code",
      "metadata": {
        "colab": {
          "base_uri": "https://localhost:8080/"
        },
        "id": "0_sU0llES7e0",
        "outputId": "3b08a3aa-b2b4-4aa2-e87c-2a697322d90d"
      },
      "source": [
        "!pip install energyflow"
      ],
      "execution_count": 101,
      "outputs": [
        {
          "output_type": "stream",
          "text": [
            "Requirement already satisfied: energyflow in /usr/local/lib/python3.7/dist-packages (1.3.2)\n",
            "Requirement already satisfied: h5py>=2.9.0 in /usr/local/lib/python3.7/dist-packages (from energyflow) (2.10.0)\n",
            "Requirement already satisfied: wasserstein>=0.3.1 in /usr/local/lib/python3.7/dist-packages (from energyflow) (0.3.3)\n",
            "Requirement already satisfied: numpy>=1.16.0 in /usr/local/lib/python3.7/dist-packages (from energyflow) (1.19.5)\n",
            "Requirement already satisfied: six>=1.10.0 in /usr/local/lib/python3.7/dist-packages (from energyflow) (1.15.0)\n",
            "Requirement already satisfied: wurlitzer>=1.0.0 in /usr/local/lib/python3.7/dist-packages (from wasserstein>=0.3.1->energyflow) (2.0.1)\n"
          ],
          "name": "stdout"
        }
      ]
    },
    {
      "cell_type": "code",
      "metadata": {
        "id": "OZ9qQJaUS7h7"
      },
      "source": [
        "import energyflow"
      ],
      "execution_count": 102,
      "outputs": []
    },
    {
      "cell_type": "code",
      "metadata": {
        "id": "l6htdn9c3bVX"
      },
      "source": [
        "train_data=energyflow.qg_jets.load(num_data=100000, pad=True, ncol=4, generator='pythia',with_bc=False, cache_dir='~/.energyflow')"
      ],
      "execution_count": 103,
      "outputs": []
    },
    {
      "cell_type": "code",
      "metadata": {
        "id": "4uu2JkP5T_y5"
      },
      "source": [
        "val_data=energyflow.qg_jets.load(num_data=40000, pad=True, ncol=4, generator='pythia',with_bc=False, cache_dir='~/.energyflow')"
      ],
      "execution_count": 104,
      "outputs": []
    },
    {
      "cell_type": "code",
      "metadata": {
        "colab": {
          "base_uri": "https://localhost:8080/"
        },
        "id": "fjXE-ahlUsqg",
        "outputId": "eaf2c732-9fdb-4340-803d-a07f10223ffd"
      },
      "source": [
        "train_data[0][:,:,1:].shape"
      ],
      "execution_count": 105,
      "outputs": [
        {
          "output_type": "execute_result",
          "data": {
            "text/plain": [
              "(100000, 139, 3)"
            ]
          },
          "metadata": {
            "tags": []
          },
          "execution_count": 105
        }
      ]
    },
    {
      "cell_type": "code",
      "metadata": {
        "colab": {
          "base_uri": "https://localhost:8080/"
        },
        "id": "X9oIn5v6WaWM",
        "outputId": "ac15e388-659b-464e-b3ce-d8d30dcfce27"
      },
      "source": [
        "train_data[1].shape"
      ],
      "execution_count": 106,
      "outputs": [
        {
          "output_type": "execute_result",
          "data": {
            "text/plain": [
              "(100000,)"
            ]
          },
          "metadata": {
            "tags": []
          },
          "execution_count": 106
        }
      ]
    },
    {
      "cell_type": "code",
      "metadata": {
        "id": "fN4szDbCZH_G"
      },
      "source": [
        "import numpy as np"
      ],
      "execution_count": 107,
      "outputs": []
    },
    {
      "cell_type": "code",
      "metadata": {
        "id": "0T6UqG1_UAYw"
      },
      "source": [
        "train_file={}\n",
        "\n",
        "train_file['data']=train_data[0][:,:,1:]\n",
        "\n",
        "train_file['global']=train_data[0][:,:,0]\n",
        "\n",
        "train_file['pid']=train_data[1]\n"
      ],
      "execution_count": 108,
      "outputs": []
    },
    {
      "cell_type": "code",
      "metadata": {
        "id": "IM0rJnHJUAbF"
      },
      "source": [
        "test_file={}\n",
        "\n",
        "test_file['data']=val_data[0][:,:,1:]\n",
        "\n",
        "test_file['global']=val_data[0][:,:,0]\n",
        "\n",
        "test_file['pid']=val_data[1]"
      ],
      "execution_count": 109,
      "outputs": []
    },
    {
      "cell_type": "code",
      "metadata": {
        "colab": {
          "base_uri": "https://localhost:8080/"
        },
        "id": "O0ZKIxAhXCes",
        "outputId": "f7ec8e61-a7ef-47bb-fd52-409a5b761bd0"
      },
      "source": [
        "%cd /content/ABCNet/classification/"
      ],
      "execution_count": 110,
      "outputs": [
        {
          "output_type": "stream",
          "text": [
            "/content/ABCNet/classification\n"
          ],
          "name": "stdout"
        }
      ]
    },
    {
      "cell_type": "code",
      "metadata": {
        "id": "nH8-fSse8mtP"
      },
      "source": [
        "s_train=np.sum(train_data[0],axis=1)\n",
        "s_val=np.sum(val_data[0],axis=1)"
      ],
      "execution_count": 111,
      "outputs": []
    },
    {
      "cell_type": "code",
      "metadata": {
        "id": "P84_8dGT-Jm6"
      },
      "source": [
        "g_train=s_train[:,0]\n",
        "g_val=s_val[:,0]"
      ],
      "execution_count": 112,
      "outputs": []
    },
    {
      "cell_type": "code",
      "metadata": {
        "id": "gClWc06tXChx"
      },
      "source": [
        "import h5py\n",
        "\n",
        "with h5py.File('train.hdf5', 'w') as f:  \n",
        "  f.create_dataset('data',data=train_data[0][:,:,1:])\n",
        "  f.create_dataset('global',data=g_train[:,np.newaxis])\n",
        "  f.create_dataset('pid',data=train_data[1])\n"
      ],
      "execution_count": 113,
      "outputs": []
    },
    {
      "cell_type": "code",
      "metadata": {
        "id": "AqbPUTHHdAWo"
      },
      "source": [
        "with h5py.File('test.hdf5', 'w') as f:  \n",
        "  f.create_dataset('data',data=val_data[0][:,:,1:])\n",
        "  f.create_dataset('global',data=g_val[:,np.newaxis])\n",
        "  f.create_dataset('pid',data=val_data[1])"
      ],
      "execution_count": 114,
      "outputs": []
    },
    {
      "cell_type": "code",
      "metadata": {
        "colab": {
          "base_uri": "https://localhost:8080/"
        },
        "id": "ODXO3xR7AcXC",
        "outputId": "17d57c70-2bd5-4572-87be-3fdf434a21ed"
      },
      "source": [
        "g_val[:,np.newaxis].shape"
      ],
      "execution_count": 115,
      "outputs": [
        {
          "output_type": "execute_result",
          "data": {
            "text/plain": [
              "(40000, 1)"
            ]
          },
          "metadata": {
            "tags": []
          },
          "execution_count": 115
        }
      ]
    },
    {
      "cell_type": "code",
      "metadata": {
        "colab": {
          "base_uri": "https://localhost:8080/"
        },
        "id": "ZwvffrCDdAZJ",
        "outputId": "c68c03ec-0eb5-4dcb-e111-8d1b14329569"
      },
      "source": [
        "!pwd"
      ],
      "execution_count": 116,
      "outputs": [
        {
          "output_type": "stream",
          "text": [
            "/content/ABCNet/classification\n"
          ],
          "name": "stdout"
        }
      ]
    },
    {
      "cell_type": "code",
      "metadata": {
        "id": "hiLu6bgithAb"
      },
      "source": [
        "%tensorflow_version 1.x"
      ],
      "execution_count": 117,
      "outputs": []
    },
    {
      "cell_type": "code",
      "metadata": {
        "colab": {
          "base_uri": "https://localhost:8080/"
        },
        "id": "p8QKBsIedAbx",
        "outputId": "741e17db-dfd4-4fa1-c1dc-4ae43d670954"
      },
      "source": [
        "!python train.py --max_epoch 10 --num_glob 1 --num_point 139 --nfeat 3"
      ],
      "execution_count": 119,
      "outputs": [
        {
          "output_type": "stream",
          "text": [
            "WARNING:tensorflow:From /tensorflow-1.15.2/python3.7/tensorflow_core/python/compat/v2_compat.py:68: disable_resource_variables (from tensorflow.python.ops.variable_scope) is deprecated and will be removed in a future version.\n",
            "Instructions for updating:\n",
            "non-resource variables are not supported in the long term\n",
            "pid: 2743\n",
            "--- Get model and loss\n",
            "WARNING:tensorflow:From /content/ABCNet/classification/../utils/tf_util.py:777: where (from tensorflow.python.ops.array_ops) is deprecated and will be removed in a future version.\n",
            "Instructions for updating:\n",
            "Use tf.where in 2.0, which has the same broadcast rule as np.where\n",
            "WARNING:tensorflow:\n",
            "The TensorFlow contrib module will not be included in TensorFlow 2.0.\n",
            "For more information, please see:\n",
            "  * https://github.com/tensorflow/community/blob/master/rfcs/20180907-contrib-sunset.md\n",
            "  * https://github.com/tensorflow/addons\n",
            "  * https://github.com/tensorflow/io (for I/O related ops)\n",
            "If you depend on functionality not listed there, please file an issue.\n",
            "\n",
            "WARNING:tensorflow:From /content/ABCNet/classification/../utils/tf_util.py:26: The name tf.get_variable is deprecated. Please use tf.compat.v1.get_variable instead.\n",
            "\n",
            "WARNING:tensorflow:From /content/ABCNet/classification/../utils/tf_util.py:53: The name tf.add_to_collection is deprecated. Please use tf.compat.v1.add_to_collection instead.\n",
            "\n",
            "WARNING:tensorflow:From /content/ABCNet/classification/../models/gapnet_QG.py:38: calling reduce_max_v1 (from tensorflow.python.ops.math_ops) with keep_dims is deprecated and will be removed in a future version.\n",
            "Instructions for updating:\n",
            "keep_dims is deprecated, use keepdims instead\n",
            "shape (64, 139, 1, 35)\n",
            "WARNING:tensorflow:From /content/ABCNet/classification/../utils/tf_util.py:494: The name tf.nn.avg_pool is deprecated. Please use tf.nn.avg_pool2d instead.\n",
            "\n",
            "WARNING:tensorflow:From /content/ABCNet/classification/../utils/tf_util.py:731: calling dropout (from tensorflow.python.ops.nn_ops) with keep_prob is deprecated and will be removed in a future version.\n",
            "Instructions for updating:\n",
            "Please use `rate` instead of `keep_prob`. Rate should be set to `rate = 1 - keep_prob`.\n",
            "--- Get training operator\n",
            "2021-03-22 18:42:05.687470: I tensorflow/core/platform/profile_utils/cpu_utils.cc:94] CPU Frequency: 2199995000 Hz\n",
            "2021-03-22 18:42:05.687719: I tensorflow/compiler/xla/service/service.cc:168] XLA service 0x563f094cef40 initialized for platform Host (this does not guarantee that XLA will be used). Devices:\n",
            "2021-03-22 18:42:05.687753: I tensorflow/compiler/xla/service/service.cc:176]   StreamExecutor device (0): Host, Default Version\n",
            "2021-03-22 18:42:05.692299: I tensorflow/stream_executor/platform/default/dso_loader.cc:44] Successfully opened dynamic library libcuda.so.1\n",
            "2021-03-22 18:42:05.746426: I tensorflow/stream_executor/cuda/cuda_gpu_executor.cc:983] successful NUMA node read from SysFS had negative value (-1), but there must be at least one NUMA node, so returning NUMA node zero\n",
            "2021-03-22 18:42:05.747007: I tensorflow/compiler/xla/service/service.cc:168] XLA service 0x563f094cf480 initialized for platform CUDA (this does not guarantee that XLA will be used). Devices:\n",
            "2021-03-22 18:42:05.747047: I tensorflow/compiler/xla/service/service.cc:176]   StreamExecutor device (0): Tesla K80, Compute Capability 3.7\n",
            "2021-03-22 18:42:05.747224: I tensorflow/stream_executor/cuda/cuda_gpu_executor.cc:983] successful NUMA node read from SysFS had negative value (-1), but there must be at least one NUMA node, so returning NUMA node zero\n",
            "2021-03-22 18:42:05.747575: I tensorflow/core/common_runtime/gpu/gpu_device.cc:1639] Found device 0 with properties: \n",
            "name: Tesla K80 major: 3 minor: 7 memoryClockRate(GHz): 0.8235\n",
            "pciBusID: 0000:00:04.0\n",
            "2021-03-22 18:42:05.748185: I tensorflow/stream_executor/platform/default/dso_loader.cc:44] Successfully opened dynamic library libcudart.so.10.1\n",
            "2021-03-22 18:42:05.750670: I tensorflow/stream_executor/platform/default/dso_loader.cc:44] Successfully opened dynamic library libcublas.so.10\n",
            "2021-03-22 18:42:05.752640: I tensorflow/stream_executor/platform/default/dso_loader.cc:44] Successfully opened dynamic library libcufft.so.10\n",
            "2021-03-22 18:42:05.753414: I tensorflow/stream_executor/platform/default/dso_loader.cc:44] Successfully opened dynamic library libcurand.so.10\n",
            "2021-03-22 18:42:05.756093: I tensorflow/stream_executor/platform/default/dso_loader.cc:44] Successfully opened dynamic library libcusolver.so.10\n",
            "2021-03-22 18:42:05.757578: I tensorflow/stream_executor/platform/default/dso_loader.cc:44] Successfully opened dynamic library libcusparse.so.10\n",
            "2021-03-22 18:42:05.762889: I tensorflow/stream_executor/platform/default/dso_loader.cc:44] Successfully opened dynamic library libcudnn.so.7\n",
            "2021-03-22 18:42:05.762997: I tensorflow/stream_executor/cuda/cuda_gpu_executor.cc:983] successful NUMA node read from SysFS had negative value (-1), but there must be at least one NUMA node, so returning NUMA node zero\n",
            "2021-03-22 18:42:05.763447: I tensorflow/stream_executor/cuda/cuda_gpu_executor.cc:983] successful NUMA node read from SysFS had negative value (-1), but there must be at least one NUMA node, so returning NUMA node zero\n",
            "2021-03-22 18:42:05.763902: I tensorflow/core/common_runtime/gpu/gpu_device.cc:1767] Adding visible gpu devices: 0\n",
            "2021-03-22 18:42:05.763973: I tensorflow/stream_executor/platform/default/dso_loader.cc:44] Successfully opened dynamic library libcudart.so.10.1\n",
            "2021-03-22 18:42:05.764933: I tensorflow/core/common_runtime/gpu/gpu_device.cc:1180] Device interconnect StreamExecutor with strength 1 edge matrix:\n",
            "2021-03-22 18:42:05.764964: I tensorflow/core/common_runtime/gpu/gpu_device.cc:1186]      0 \n",
            "2021-03-22 18:42:05.764980: I tensorflow/core/common_runtime/gpu/gpu_device.cc:1199] 0:   N \n",
            "2021-03-22 18:42:05.765110: I tensorflow/stream_executor/cuda/cuda_gpu_executor.cc:983] successful NUMA node read from SysFS had negative value (-1), but there must be at least one NUMA node, so returning NUMA node zero\n",
            "2021-03-22 18:42:05.765544: I tensorflow/stream_executor/cuda/cuda_gpu_executor.cc:983] successful NUMA node read from SysFS had negative value (-1), but there must be at least one NUMA node, so returning NUMA node zero\n",
            "2021-03-22 18:42:05.765971: I tensorflow/core/common_runtime/gpu/gpu_device.cc:1325] Created TensorFlow device (/job:localhost/replica:0/task:0/device:GPU:0 with 2651 MB memory) -> physical GPU (device: 0, name: Tesla K80, pci bus id: 0000:00:04.0, compute capability: 3.7)\n",
            "2021-03-22 18:42:07.088001: W tensorflow/core/common_runtime/colocation_graph.cc:983] Failed to place the graph without changing the devices of some resources. Some of the operations (that had to be colocated with resource generating operations) are not supported on the resources' devices. Current candidate devices are [\n",
            "  /job:localhost/replica:0/task:0/device:CPU:0].\n",
            "See below for details of this colocation group:\n",
            "Colocation Debug Info:\n",
            "Colocation group had the following types and supported devices: \n",
            "Root Member(assigned_device_name_index_=-1 requested_device_name_='/device:GPU:0' assigned_device_name_='' resource_device_name_='/device:GPU:0' supported_device_types_=[CPU] possible_devices_=[]\n",
            "AssignAdd: CPU \n",
            "Const: GPU CPU XLA_CPU XLA_GPU \n",
            "Identity: GPU CPU XLA_CPU XLA_GPU \n",
            "VariableV2: CPU \n",
            "Assign: CPU \n",
            "\n",
            "Colocation members, user-requested devices, and framework assigned devices, if any:\n",
            "  Variable (VariableV2) /device:GPU:0\n",
            "  Variable/Assign (Assign) /device:GPU:0\n",
            "  Variable/read (Identity) /device:GPU:0\n",
            "  Adam/value (Const) /device:GPU:0\n",
            "  Adam (AssignAdd) /device:GPU:0\n",
            "  save/Assign_9 (Assign) /device:GPU:0\n",
            "\n",
            "Total number of weights for the model: 229141.0\n",
            "**** EPOCH 000 ****\n",
            "----0-----\n",
            "/content/ABCNet/classification/test.hdf5\n",
            "loaded 40000 events\n",
            "2021-03-22 18:42:08.211048\n",
            "---- EPOCH 000 EVALUATION ----\n",
            "2021-03-22 18:42:08.787433: I tensorflow/stream_executor/platform/default/dso_loader.cc:44] Successfully opened dynamic library libcublas.so.10\n",
            "2021-03-22 18:42:08.913546: I tensorflow/stream_executor/platform/default/dso_loader.cc:44] Successfully opened dynamic library libcudnn.so.7\n",
            "2021-03-22 18:42:09.600843: W tensorflow/core/common_runtime/bfc_allocator.cc:239] Allocator (GPU_0_bfc) ran out of memory trying to allocate 1.02GiB with freed_by_count=0. The caller indicates that this is not a failure, but may mean that there could be performance gains if more memory were available.\n",
            "2021-03-22 18:42:09.772907: W tensorflow/core/common_runtime/bfc_allocator.cc:305] Garbage collection: deallocate free memory regions (i.e., allocations) so that we can re-allocate a larger region to avoid OOM due to memory fragmentation. If you see this message frequently, you are running near the threshold of the available device memory and re-allocation may incur great performance overhead. You may try smaller batch sizes to observe the performance impact. Set TF_ENABLE_GPU_GARBAGE_COLLECTION=false if you'd like to disable this feature.\n",
            "Eval time: 2.022651433944702\n",
            "1/effB at 1.0 effS: 1.0\n",
            "mean loss: 0.815262\n",
            "accuracy: 0.498000\n",
            "Model saved in file: ../logs/log/model_0.ckpt\n",
            "----0-----\n",
            "loaded 100000 events\n",
            "2021-03-22 18:42:44.617800\n",
            "mean loss: 0.511646\n",
            "accuracy: 0.762884\n",
            "**** EPOCH 001 ****\n",
            "----0-----\n",
            "/content/ABCNet/classification/test.hdf5\n",
            "loaded 40000 events\n",
            "2021-03-22 18:46:03.754204\n",
            "---- EPOCH 001 EVALUATION ----\n",
            "Eval time: 0.054750680923461914\n",
            "1/effB at 0.30004980079681276 effS: 69.16666666666667\n",
            "mean loss: 0.546035\n",
            "accuracy: 0.778950\n",
            "Model saved in file: ../logs/log/model_1.ckpt\n",
            "----0-----\n",
            "loaded 100000 events\n",
            "2021-03-22 18:46:37.775592\n",
            "mean loss: 0.487893\n",
            "accuracy: 0.771857\n",
            "**** EPOCH 002 ****\n",
            "----0-----\n",
            "/content/ABCNet/classification/test.hdf5\n",
            "loaded 40000 events\n",
            "2021-03-22 18:49:54.323208\n",
            "---- EPOCH 002 EVALUATION ----\n",
            "Eval time: 0.05197954177856445\n",
            "1/effB at 0.30054780876494025 effS: 67.07070707070707\n",
            "mean loss: 0.553818\n",
            "accuracy: 0.775675\n",
            "No improvement for 0 epochs\n",
            "----0-----\n",
            "loaded 100000 events\n",
            "2021-03-22 18:50:27.937649\n",
            "mean loss: 0.484457\n",
            "accuracy: 0.774858\n",
            "**** EPOCH 003 ****\n",
            "----0-----\n",
            "/content/ABCNet/classification/test.hdf5\n",
            "loaded 40000 events\n",
            "2021-03-22 18:53:44.654589\n",
            "---- EPOCH 003 EVALUATION ----\n",
            "Eval time: 0.05458688735961914\n",
            "1/effB at 0.3016932270916335 effS: 69.40766550522649\n",
            "mean loss: 0.544080\n",
            "accuracy: 0.776050\n",
            "No improvement for 1 epochs\n",
            "----0-----\n",
            "loaded 100000 events\n",
            "2021-03-22 18:54:18.276418\n",
            "mean loss: 0.483539\n",
            "accuracy: 0.775148\n",
            "**** EPOCH 004 ****\n",
            "----0-----\n",
            "/content/ABCNet/classification/test.hdf5\n",
            "loaded 40000 events\n",
            "2021-03-22 18:57:34.697157\n",
            "---- EPOCH 004 EVALUATION ----\n",
            "Eval time: 0.052281856536865234\n",
            "1/effB at 0.30044820717131476 effS: 68.92733564013841\n",
            "mean loss: 0.549038\n",
            "accuracy: 0.777425\n",
            "No improvement for 2 epochs\n",
            "----0-----\n",
            "loaded 100000 events\n",
            "2021-03-22 18:58:08.285243\n",
            "mean loss: 0.483797\n",
            "accuracy: 0.774898\n",
            "**** EPOCH 005 ****\n",
            "----0-----\n",
            "/content/ABCNet/classification/test.hdf5\n",
            "loaded 40000 events\n",
            "2021-03-22 19:01:24.328368\n",
            "---- EPOCH 005 EVALUATION ----\n",
            "Eval time: 0.051770687103271484\n",
            "1/effB at 0.30154382470119523 effS: 69.89473684210526\n",
            "mean loss: 0.556027\n",
            "accuracy: 0.776125\n",
            "No improvement for 3 epochs\n",
            "----0-----\n",
            "loaded 100000 events\n",
            "2021-03-22 19:01:57.885612\n",
            "mean loss: 0.482568\n",
            "accuracy: 0.775788\n",
            "**** EPOCH 006 ****\n",
            "----0-----\n",
            "/content/ABCNet/classification/test.hdf5\n",
            "loaded 40000 events\n",
            "2021-03-22 19:05:13.546821\n",
            "---- EPOCH 006 EVALUATION ----\n",
            "Eval time: 0.05302286148071289\n",
            "1/effB at 0.3012948207171315 effS: 65.96026490066225\n",
            "mean loss: 0.543154\n",
            "accuracy: 0.779250\n",
            "Model saved in file: ../logs/log/model_6.ckpt\n",
            "----0-----\n",
            "loaded 100000 events\n",
            "2021-03-22 19:05:47.456799\n",
            "mean loss: 0.482820\n",
            "accuracy: 0.775418\n",
            "**** EPOCH 007 ****\n",
            "----0-----\n",
            "/content/ABCNet/classification/test.hdf5\n",
            "loaded 40000 events\n",
            "2021-03-22 19:09:03.314779\n",
            "---- EPOCH 007 EVALUATION ----\n",
            "Eval time: 0.05453658103942871\n",
            "1/effB at 0.3016932270916335 effS: 65.52631578947368\n",
            "mean loss: 0.549403\n",
            "accuracy: 0.778800\n",
            "No improvement for 0 epochs\n",
            "----0-----\n",
            "loaded 100000 events\n",
            "2021-03-22 19:09:36.859627\n",
            "mean loss: 0.480966\n",
            "accuracy: 0.775858\n",
            "**** EPOCH 008 ****\n",
            "----0-----\n",
            "/content/ABCNet/classification/test.hdf5\n",
            "loaded 40000 events\n",
            "2021-03-22 19:12:52.555236\n",
            "---- EPOCH 008 EVALUATION ----\n",
            "Eval time: 0.05219602584838867\n",
            "1/effB at 0.3000996015936255 effS: 69.89473684210526\n",
            "mean loss: 0.547485\n",
            "accuracy: 0.780275\n",
            "Model saved in file: ../logs/log/model_8.ckpt\n",
            "----0-----\n",
            "loaded 100000 events\n",
            "2021-03-22 19:13:26.528037\n",
            "mean loss: 0.480804\n",
            "accuracy: 0.776518\n",
            "**** EPOCH 009 ****\n",
            "----0-----\n",
            "/content/ABCNet/classification/test.hdf5\n",
            "loaded 40000 events\n",
            "2021-03-22 19:16:42.385896\n",
            "---- EPOCH 009 EVALUATION ----\n",
            "Eval time: 0.05332350730895996\n",
            "1/effB at 0.30318725099601596 effS: 67.52542372881356\n",
            "mean loss: 0.547854\n",
            "accuracy: 0.778225\n",
            "No improvement for 0 epochs\n",
            "----0-----\n",
            "loaded 100000 events\n",
            "2021-03-22 19:17:15.893987\n",
            "mean loss: 0.479263\n",
            "accuracy: 0.776629\n"
          ],
          "name": "stdout"
        }
      ]
    },
    {
      "cell_type": "code",
      "metadata": {
        "id": "F0bfdWDbdnnO"
      },
      "source": [
        ""
      ],
      "execution_count": null,
      "outputs": []
    },
    {
      "cell_type": "markdown",
      "metadata": {
        "id": "EWTR4ryIdn_O"
      },
      "source": [
        "# **ACCURACY COMPARISON**"
      ]
    },
    {
      "cell_type": "markdown",
      "metadata": {
        "id": "spP5vY38dx0w"
      },
      "source": [
        "\n",
        "Note:- The following accuracies are on Validation/Test set after 10 epochs .\n",
        "\n",
        "**Number of events used:** </br>\n",
        "Training:- 100000 </br>\n",
        "Test/Validaation:- 40000\n",
        "\n",
        "\n",
        "*   # ParticleNET  --- 0.7677\n",
        "*   # ABCNet --- 0.7766\n",
        "\n"
      ]
    },
    {
      "cell_type": "code",
      "metadata": {
        "id": "xSxQFumVduE5"
      },
      "source": [
        ""
      ],
      "execution_count": null,
      "outputs": []
    }
  ]
}