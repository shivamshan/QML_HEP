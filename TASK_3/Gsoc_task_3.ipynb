{
  "nbformat": 4,
  "nbformat_minor": 0,
  "metadata": {
    "colab": {
      "name": "Gsoc_task_3",
      "provenance": [],
      "collapsed_sections": []
    },
    "kernelspec": {
      "name": "python3",
      "display_name": "Python 3"
    },
    "language_info": {
      "name": "python"
    }
  },
  "cells": [
    {
      "cell_type": "markdown",
      "metadata": {
        "id": "9jWq3thTsNtR"
      },
      "source": [
        "The QConv layer implemented in this notebook is from:\n",
        "[A Tutorial on Quantum Convolutional Neural\n",
        "Networks (QCNN)](https://arxiv.org/pdf/2009.09423.pdf)"
      ]
    },
    {
      "cell_type": "markdown",
      "metadata": {
        "id": "E-0wqXKrsywR"
      },
      "source": [
        "Also only Qconv layers have been used, without any quatum pooling layer."
      ]
    },
    {
      "cell_type": "markdown",
      "metadata": {
        "id": "sAz-u0bx5ZWj"
      },
      "source": [
        "The following circuit has been used to encode classical data into qubits and apply the quantum convolutional layer:-![124c5634a54fff71c60ea966c7834b1e.png](data:image/png;base64,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)"
      ]
    },
    {
      "cell_type": "code",
      "metadata": {
        "id": "f_6DO-rhstYU"
      },
      "source": [
        ""
      ],
      "execution_count": 26,
      "outputs": []
    },
    {
      "cell_type": "code",
      "metadata": {
        "id": "Ieio2xcBCdSz"
      },
      "source": [
        "!pip install -q tensorflow==2.3.1"
      ],
      "execution_count": 27,
      "outputs": []
    },
    {
      "cell_type": "code",
      "metadata": {
        "id": "cUL5iBt0CeHu"
      },
      "source": [
        "!pip install -q tensorflow-quantum"
      ],
      "execution_count": 28,
      "outputs": []
    },
    {
      "cell_type": "code",
      "metadata": {
        "colab": {
          "base_uri": "https://localhost:8080/"
        },
        "id": "-JkewFTo-RW_",
        "outputId": "80c7e3fe-a894-46b1-b6b0-a64e2975d47e"
      },
      "source": [
        "import numpy\n",
        "data = numpy.load('/content/electron-photon.npz')\n",
        "print(data.files)"
      ],
      "execution_count": 29,
      "outputs": [
        {
          "output_type": "stream",
          "text": [
            "['x_train', 'y_train', 'x_test', 'y_test']\n"
          ],
          "name": "stdout"
        }
      ]
    },
    {
      "cell_type": "code",
      "metadata": {
        "colab": {
          "base_uri": "https://localhost:8080/"
        },
        "id": "XGWnrzAO_ZJK",
        "outputId": "f2e68540-5f08-49a6-80ed-d870a6d7bf72"
      },
      "source": [
        "print(\"Shapes of the files:-\\n\")\n",
        "for file in data.files:\n",
        "  print(\"%s---%s\" %(file,(str(data[file].shape))))"
      ],
      "execution_count": 30,
      "outputs": [
        {
          "output_type": "stream",
          "text": [
            "Shapes of the files:-\n",
            "\n",
            "x_train---(100, 32, 32)\n",
            "y_train---(100,)\n",
            "x_test---(100, 32, 32)\n",
            "y_test---(100,)\n"
          ],
          "name": "stdout"
        }
      ]
    },
    {
      "cell_type": "code",
      "metadata": {
        "id": "rhlCFcZn_g9_"
      },
      "source": [
        "import tensorflow as tf\n",
        "import tensorflow_quantum as tfq\n",
        "\n",
        "from tensorflow.keras import datasets, layers, models\n",
        "\n",
        "import cirq\n",
        "import sympy\n",
        "import numpy as np\n",
        "import collections\n",
        "\n",
        "# visualization tools\n",
        "%matplotlib inline\n",
        "import matplotlib as mpl\n",
        "import matplotlib.pyplot as plt\n",
        "from cirq.contrib.svg import SVGCircuit"
      ],
      "execution_count": 31,
      "outputs": []
    },
    {
      "cell_type": "code",
      "metadata": {
        "colab": {
          "base_uri": "https://localhost:8080/"
        },
        "id": "lv-XGni1DFQL",
        "outputId": "8555dd10-8cad-4a72-eeac-ee0e180d3392"
      },
      "source": [
        "\n",
        "(x_train, y_train), (x_test, y_test) = (data['x_train'],data['y_train']),(data['x_test'],data['y_test'])\n",
        "\n",
        "\n",
        "x_train, x_test = x_train[..., np.newaxis], x_test[..., np.newaxis]\n",
        "\n",
        "print(\"Number of original training examples:\", len(x_train))\n",
        "print(\"Number of original test examples:\", len(x_test))"
      ],
      "execution_count": 32,
      "outputs": [
        {
          "output_type": "stream",
          "text": [
            "Number of original training examples: 100\n",
            "Number of original test examples: 100\n"
          ],
          "name": "stdout"
        }
      ]
    },
    {
      "cell_type": "code",
      "metadata": {
        "id": "RI_zv9BYDFWP"
      },
      "source": [
        "x_train= tf.cast(x_train, tf.float32)\n",
        "x_test=tf.cast(x_test, tf.float32)\n",
        "\n",
        "# x_train = tf.image.resize(x_train[:], (10,10)).numpy()\n",
        "# x_test = tf.image.resize(x_test[:], (10,10)).numpy()\n",
        "\n",
        "y_train = y_train[:]\n",
        "y_test = y_test[:]"
      ],
      "execution_count": 33,
      "outputs": []
    },
    {
      "cell_type": "code",
      "metadata": {
        "colab": {
          "base_uri": "https://localhost:8080/",
          "height": 301
        },
        "id": "5UjOMXQ5DFZc",
        "outputId": "11e503df-30d5-4b40-dbef-c86ff4d467a0"
      },
      "source": [
        "print(y_train[0])\n",
        "fig = plt.figure()\n",
        "plt.imshow(x_train[0, :, :, 0], cmap='gray_r')\n",
        "plt.colorbar()\n",
        "# fig.savefig('sample', dpi=300)"
      ],
      "execution_count": 34,
      "outputs": [
        {
          "output_type": "stream",
          "text": [
            "1.0\n"
          ],
          "name": "stdout"
        },
        {
          "output_type": "execute_result",
          "data": {
            "text/plain": [
              "<matplotlib.colorbar.Colorbar at 0x7f3ebc3d6850>"
            ]
          },
          "metadata": {
            "tags": []
          },
          "execution_count": 34
        },
        {
          "output_type": "display_data",
          "data": {
            "image/png": "[encoded data removed]",
            "text/plain": [
              "<Figure size 432x288 with 2 Axes>"
            ]
          },
          "metadata": {
            "tags": [],
            "needs_background": "light"
          }
        }
      ]
    },
    {
      "cell_type": "markdown",
      "metadata": {
        "id": "bGIbAFGPEEVq"
      },
      "source": [
        "# Fully Connected layer only"
      ]
    },
    {
      "cell_type": "code",
      "metadata": {
        "id": "VlsBUADDEBd9"
      },
      "source": [
        "width = np.shape(x_train)[1]\n",
        "height = np.shape(x_train)[2]\n",
        "\n",
        "fc_model = models.Sequential()\n",
        "\n",
        "fc_model.add(layers.Flatten(input_shape=(width,height,1)))\n",
        "fc_model.add(layers.Dense(32, activation='relu'))\n",
        "fc_model.add(layers.Dense(2, activation='softmax'))"
      ],
      "execution_count": 47,
      "outputs": []
    },
    {
      "cell_type": "code",
      "metadata": {
        "colab": {
          "base_uri": "https://localhost:8080/"
        },
        "id": "Ky3jDWHlEBhb",
        "outputId": "634715be-70cd-41c1-c1ef-c4611398450d"
      },
      "source": [
        "\n",
        "fc_model.compile(optimizer='adam',loss='sparse_categorical_crossentropy', metrics=['accuracy'])\n",
        "\n",
        "fc_history = fc_model.fit(x_train, y_train, validation_data=(x_test, y_test), epochs=50)"
      ],
      "execution_count": 48,
      "outputs": [
        {
          "output_type": "stream",
          "text": [
            "Epoch 1/50\n",
            "4/4 [==============================] - 0s 35ms/step - loss: 0.6920 - accuracy: 0.5600 - val_loss: 0.6955 - val_accuracy: 0.4600\n",
            "Epoch 2/50\n",
            "4/4 [==============================] - 0s 7ms/step - loss: 0.6894 - accuracy: 0.5600 - val_loss: 0.6947 - val_accuracy: 0.4600\n",
            "Epoch 3/50\n",
            "4/4 [==============================] - 0s 8ms/step - loss: 0.6876 - accuracy: 0.5600 - val_loss: 0.6945 - val_accuracy: 0.4600\n",
            "Epoch 4/50\n",
            "4/4 [==============================] - 0s 7ms/step - loss: 0.6855 - accuracy: 0.5600 - val_loss: 0.6946 - val_accuracy: 0.4600\n",
            "Epoch 5/50\n",
            "4/4 [==============================] - 0s 7ms/step - loss: 0.6830 - accuracy: 0.5600 - val_loss: 0.6957 - val_accuracy: 0.4600\n",
            "Epoch 6/50\n",
            "4/4 [==============================] - 0s 7ms/step - loss: 0.6801 - accuracy: 0.5600 - val_loss: 0.6969 - val_accuracy: 0.4600\n",
            "Epoch 7/50\n",
            "4/4 [==============================] - 0s 8ms/step - loss: 0.6780 - accuracy: 0.5600 - val_loss: 0.6989 - val_accuracy: 0.4600\n",
            "Epoch 8/50\n",
            "4/4 [==============================] - 0s 7ms/step - loss: 0.6749 - accuracy: 0.5600 - val_loss: 0.7015 - val_accuracy: 0.4600\n",
            "Epoch 9/50\n",
            "4/4 [==============================] - 0s 9ms/step - loss: 0.6737 - accuracy: 0.5600 - val_loss: 0.7043 - val_accuracy: 0.4600\n",
            "Epoch 10/50\n",
            "4/4 [==============================] - 0s 8ms/step - loss: 0.6729 - accuracy: 0.5600 - val_loss: 0.7069 - val_accuracy: 0.4600\n",
            "Epoch 11/50\n",
            "4/4 [==============================] - 0s 8ms/step - loss: 0.6719 - accuracy: 0.5600 - val_loss: 0.7086 - val_accuracy: 0.4600\n",
            "Epoch 12/50\n",
            "4/4 [==============================] - 0s 8ms/step - loss: 0.6706 - accuracy: 0.5600 - val_loss: 0.7088 - val_accuracy: 0.4600\n",
            "Epoch 13/50\n",
            "4/4 [==============================] - 0s 8ms/step - loss: 0.6686 - accuracy: 0.5600 - val_loss: 0.7069 - val_accuracy: 0.4600\n",
            "Epoch 14/50\n",
            "4/4 [==============================] - 0s 7ms/step - loss: 0.6662 - accuracy: 0.5600 - val_loss: 0.7035 - val_accuracy: 0.4600\n",
            "Epoch 15/50\n",
            "4/4 [==============================] - 0s 7ms/step - loss: 0.6642 - accuracy: 0.5600 - val_loss: 0.7014 - val_accuracy: 0.4600\n",
            "Epoch 16/50\n",
            "4/4 [==============================] - 0s 8ms/step - loss: 0.6629 - accuracy: 0.5600 - val_loss: 0.6990 - val_accuracy: 0.4700\n",
            "Epoch 17/50\n",
            "4/4 [==============================] - 0s 7ms/step - loss: 0.6609 - accuracy: 0.5800 - val_loss: 0.6978 - val_accuracy: 0.4700\n",
            "Epoch 18/50\n",
            "4/4 [==============================] - 0s 7ms/step - loss: 0.6597 - accuracy: 0.6100 - val_loss: 0.6960 - val_accuracy: 0.5300\n",
            "Epoch 19/50\n",
            "4/4 [==============================] - 0s 8ms/step - loss: 0.6582 - accuracy: 0.6300 - val_loss: 0.6961 - val_accuracy: 0.5300\n",
            "Epoch 20/50\n",
            "4/4 [==============================] - 0s 9ms/step - loss: 0.6565 - accuracy: 0.6300 - val_loss: 0.6964 - val_accuracy: 0.5400\n",
            "Epoch 21/50\n",
            "4/4 [==============================] - 0s 8ms/step - loss: 0.6549 - accuracy: 0.6300 - val_loss: 0.6962 - val_accuracy: 0.5100\n",
            "Epoch 22/50\n",
            "4/4 [==============================] - 0s 9ms/step - loss: 0.6533 - accuracy: 0.6400 - val_loss: 0.6957 - val_accuracy: 0.5400\n",
            "Epoch 23/50\n",
            "4/4 [==============================] - 0s 8ms/step - loss: 0.6514 - accuracy: 0.6600 - val_loss: 0.6954 - val_accuracy: 0.5400\n",
            "Epoch 24/50\n",
            "4/4 [==============================] - 0s 7ms/step - loss: 0.6498 - accuracy: 0.6500 - val_loss: 0.6967 - val_accuracy: 0.5200\n",
            "Epoch 25/50\n",
            "4/4 [==============================] - 0s 7ms/step - loss: 0.6481 - accuracy: 0.6500 - val_loss: 0.6979 - val_accuracy: 0.5300\n",
            "Epoch 26/50\n",
            "4/4 [==============================] - 0s 8ms/step - loss: 0.6463 - accuracy: 0.6400 - val_loss: 0.6974 - val_accuracy: 0.5200\n",
            "Epoch 27/50\n",
            "4/4 [==============================] - 0s 7ms/step - loss: 0.6442 - accuracy: 0.6600 - val_loss: 0.6971 - val_accuracy: 0.5400\n",
            "Epoch 28/50\n",
            "4/4 [==============================] - 0s 8ms/step - loss: 0.6424 - accuracy: 0.6600 - val_loss: 0.6977 - val_accuracy: 0.5400\n",
            "Epoch 29/50\n",
            "4/4 [==============================] - 0s 9ms/step - loss: 0.6406 - accuracy: 0.6600 - val_loss: 0.6983 - val_accuracy: 0.5400\n",
            "Epoch 30/50\n",
            "4/4 [==============================] - 0s 7ms/step - loss: 0.6389 - accuracy: 0.6600 - val_loss: 0.6978 - val_accuracy: 0.5500\n",
            "Epoch 31/50\n",
            "4/4 [==============================] - 0s 8ms/step - loss: 0.6371 - accuracy: 0.6700 - val_loss: 0.6980 - val_accuracy: 0.5500\n",
            "Epoch 32/50\n",
            "4/4 [==============================] - 0s 8ms/step - loss: 0.6354 - accuracy: 0.6600 - val_loss: 0.6972 - val_accuracy: 0.5300\n",
            "Epoch 33/50\n",
            "4/4 [==============================] - 0s 9ms/step - loss: 0.6331 - accuracy: 0.6500 - val_loss: 0.6985 - val_accuracy: 0.5500\n",
            "Epoch 34/50\n",
            "4/4 [==============================] - 0s 8ms/step - loss: 0.6324 - accuracy: 0.6700 - val_loss: 0.7010 - val_accuracy: 0.5400\n",
            "Epoch 35/50\n",
            "4/4 [==============================] - 0s 7ms/step - loss: 0.6298 - accuracy: 0.6700 - val_loss: 0.7023 - val_accuracy: 0.5400\n",
            "Epoch 36/50\n",
            "4/4 [==============================] - 0s 8ms/step - loss: 0.6287 - accuracy: 0.6500 - val_loss: 0.7048 - val_accuracy: 0.5300\n",
            "Epoch 37/50\n",
            "4/4 [==============================] - 0s 8ms/step - loss: 0.6276 - accuracy: 0.6500 - val_loss: 0.7067 - val_accuracy: 0.5400\n",
            "Epoch 38/50\n",
            "4/4 [==============================] - 0s 7ms/step - loss: 0.6259 - accuracy: 0.6300 - val_loss: 0.7082 - val_accuracy: 0.5400\n",
            "Epoch 39/50\n",
            "4/4 [==============================] - 0s 8ms/step - loss: 0.6249 - accuracy: 0.6300 - val_loss: 0.7080 - val_accuracy: 0.5300\n",
            "Epoch 40/50\n",
            "4/4 [==============================] - 0s 7ms/step - loss: 0.6223 - accuracy: 0.6500 - val_loss: 0.7053 - val_accuracy: 0.5400\n",
            "Epoch 41/50\n",
            "4/4 [==============================] - 0s 7ms/step - loss: 0.6194 - accuracy: 0.6500 - val_loss: 0.7012 - val_accuracy: 0.5600\n",
            "Epoch 42/50\n",
            "4/4 [==============================] - 0s 7ms/step - loss: 0.6160 - accuracy: 0.6700 - val_loss: 0.6983 - val_accuracy: 0.5400\n",
            "Epoch 43/50\n",
            "4/4 [==============================] - 0s 8ms/step - loss: 0.6139 - accuracy: 0.6900 - val_loss: 0.6957 - val_accuracy: 0.5000\n",
            "Epoch 44/50\n",
            "4/4 [==============================] - 0s 7ms/step - loss: 0.6118 - accuracy: 0.6900 - val_loss: 0.6940 - val_accuracy: 0.5300\n",
            "Epoch 45/50\n",
            "4/4 [==============================] - 0s 7ms/step - loss: 0.6096 - accuracy: 0.6800 - val_loss: 0.6936 - val_accuracy: 0.5200\n",
            "Epoch 46/50\n",
            "4/4 [==============================] - 0s 8ms/step - loss: 0.6076 - accuracy: 0.6800 - val_loss: 0.6941 - val_accuracy: 0.5300\n",
            "Epoch 47/50\n",
            "4/4 [==============================] - 0s 9ms/step - loss: 0.6049 - accuracy: 0.6800 - val_loss: 0.6974 - val_accuracy: 0.5100\n",
            "Epoch 48/50\n",
            "4/4 [==============================] - 0s 8ms/step - loss: 0.6039 - accuracy: 0.6800 - val_loss: 0.7012 - val_accuracy: 0.5400\n",
            "Epoch 49/50\n",
            "4/4 [==============================] - 0s 7ms/step - loss: 0.6017 - accuracy: 0.6900 - val_loss: 0.7016 - val_accuracy: 0.5400\n",
            "Epoch 50/50\n",
            "4/4 [==============================] - 0s 7ms/step - loss: 0.6001 - accuracy: 0.6900 - val_loss: 0.7027 - val_accuracy: 0.5400\n"
          ],
          "name": "stdout"
        }
      ]
    },
    {
      "cell_type": "code",
      "metadata": {
        "colab": {
          "base_uri": "https://localhost:8080/"
        },
        "id": "QjC0VpNRDFcR",
        "outputId": "4707f19b-979f-43d7-9ac2-40b35a7c8e60"
      },
      "source": [
        "test_loss, test_acc = fc_model.evaluate(x_test, y_test, verbose=2)"
      ],
      "execution_count": 49,
      "outputs": [
        {
          "output_type": "stream",
          "text": [
            "4/4 - 0s - loss: 0.7027 - accuracy: 0.5400\n"
          ],
          "name": "stdout"
        }
      ]
    },
    {
      "cell_type": "markdown",
      "metadata": {
        "id": "7nO2dH1sIIaV"
      },
      "source": [
        "# Convolution Layer"
      ]
    },
    {
      "cell_type": "code",
      "metadata": {
        "id": "VQG2eKDADFfa"
      },
      "source": [
        "\n",
        "width = np.shape(x_train)[1]\n",
        "height = np.shape(x_train)[2]\n",
        "\n",
        "cnn_model = models.Sequential()\n",
        "\n",
        "cnn_model.add(layers.Conv2D(32, (2, 2), activation='relu', input_shape=(width, height, 1)))\n",
        "cnn_model.add(layers.MaxPooling2D((2, 2)))\n",
        "cnn_model.add(layers.Conv2D(16, (2, 2), activation='relu'))\n",
        "cnn_model.add(layers.MaxPooling2D((2, 2)))\n",
        "\n",
        "cnn_model.add(layers.Flatten())\n",
        "cnn_model.add(layers.Dense(32, activation='relu'))\n",
        "cnn_model.add(layers.Dense(10, activation='softmax'))"
      ],
      "execution_count": 50,
      "outputs": []
    },
    {
      "cell_type": "code",
      "metadata": {
        "colab": {
          "base_uri": "https://localhost:8080/"
        },
        "id": "MiXvSj_yDFip",
        "outputId": "20b31fda-2c74-4229-f3ad-bf2685bc3823"
      },
      "source": [
        "cnn_model.summary()"
      ],
      "execution_count": 51,
      "outputs": [
        {
          "output_type": "stream",
          "text": [
            "Model: \"sequential_8\"\n",
            "_________________________________________________________________\n",
            "Layer (type)                 Output Shape              Param #   \n",
            "=================================================================\n",
            "conv2d_4 (Conv2D)            (None, 31, 31, 32)        160       \n",
            "_________________________________________________________________\n",
            "max_pooling2d_4 (MaxPooling2 (None, 15, 15, 32)        0         \n",
            "_________________________________________________________________\n",
            "conv2d_5 (Conv2D)            (None, 14, 14, 16)        2064      \n",
            "_________________________________________________________________\n",
            "max_pooling2d_5 (MaxPooling2 (None, 7, 7, 16)          0         \n",
            "_________________________________________________________________\n",
            "flatten_7 (Flatten)          (None, 784)               0         \n",
            "_________________________________________________________________\n",
            "dense_14 (Dense)             (None, 32)                25120     \n",
            "_________________________________________________________________\n",
            "dense_15 (Dense)             (None, 10)                330       \n",
            "=================================================================\n",
            "Total params: 27,674\n",
            "Trainable params: 27,674\n",
            "Non-trainable params: 0\n",
            "_________________________________________________________________\n"
          ],
          "name": "stdout"
        }
      ]
    },
    {
      "cell_type": "code",
      "metadata": {
        "colab": {
          "base_uri": "https://localhost:8080/"
        },
        "id": "f75K-mtoIP1h",
        "outputId": "37934de7-04c7-4435-a87c-218a241ddda5"
      },
      "source": [
        "cnn_model.compile(optimizer=tf.optimizers.Adam(),loss='sparse_categorical_crossentropy',metrics=['accuracy'])\n",
        "\n",
        "cnn_history = cnn_model.fit(x_train, y_train,validation_data=(x_test, y_test), epochs=100)"
      ],
      "execution_count": 53,
      "outputs": [
        {
          "output_type": "stream",
          "text": [
            "Epoch 1/100\n",
            "4/4 [==============================] - 0s 56ms/step - loss: 0.5663 - accuracy: 0.7200 - val_loss: 0.8348 - val_accuracy: 0.4700\n",
            "Epoch 2/100\n",
            "4/4 [==============================] - 0s 25ms/step - loss: 0.5725 - accuracy: 0.6800 - val_loss: 0.8472 - val_accuracy: 0.5000\n",
            "Epoch 3/100\n",
            "4/4 [==============================] - 0s 22ms/step - loss: 0.5590 - accuracy: 0.7200 - val_loss: 0.8151 - val_accuracy: 0.4900\n",
            "Epoch 4/100\n",
            "4/4 [==============================] - 0s 26ms/step - loss: 0.5790 - accuracy: 0.7100 - val_loss: 0.8287 - val_accuracy: 0.4900\n",
            "Epoch 5/100\n",
            "4/4 [==============================] - 0s 23ms/step - loss: 0.5722 - accuracy: 0.7200 - val_loss: 0.8119 - val_accuracy: 0.5000\n",
            "Epoch 6/100\n",
            "4/4 [==============================] - 0s 25ms/step - loss: 0.5490 - accuracy: 0.7400 - val_loss: 0.8250 - val_accuracy: 0.4800\n",
            "Epoch 7/100\n",
            "4/4 [==============================] - 0s 23ms/step - loss: 0.5742 - accuracy: 0.6500 - val_loss: 0.8409 - val_accuracy: 0.5000\n",
            "Epoch 8/100\n",
            "4/4 [==============================] - 0s 25ms/step - loss: 0.5548 - accuracy: 0.7000 - val_loss: 0.8134 - val_accuracy: 0.4900\n",
            "Epoch 9/100\n",
            "4/4 [==============================] - 0s 24ms/step - loss: 0.5515 - accuracy: 0.7500 - val_loss: 0.8237 - val_accuracy: 0.5000\n",
            "Epoch 10/100\n",
            "4/4 [==============================] - 0s 24ms/step - loss: 0.5718 - accuracy: 0.7300 - val_loss: 0.8292 - val_accuracy: 0.4800\n",
            "Epoch 11/100\n",
            "4/4 [==============================] - 0s 24ms/step - loss: 0.5750 - accuracy: 0.7300 - val_loss: 0.8220 - val_accuracy: 0.5000\n",
            "Epoch 12/100\n",
            "4/4 [==============================] - 0s 23ms/step - loss: 0.5582 - accuracy: 0.7100 - val_loss: 0.8185 - val_accuracy: 0.4900\n",
            "Epoch 13/100\n",
            "4/4 [==============================] - 0s 22ms/step - loss: 0.5487 - accuracy: 0.7400 - val_loss: 0.8353 - val_accuracy: 0.4700\n",
            "Epoch 14/100\n",
            "4/4 [==============================] - 0s 22ms/step - loss: 0.5513 - accuracy: 0.7000 - val_loss: 0.8331 - val_accuracy: 0.4800\n",
            "Epoch 15/100\n",
            "4/4 [==============================] - 0s 28ms/step - loss: 0.5495 - accuracy: 0.7200 - val_loss: 0.8224 - val_accuracy: 0.4900\n",
            "Epoch 16/100\n",
            "4/4 [==============================] - 0s 26ms/step - loss: 0.5459 - accuracy: 0.7300 - val_loss: 0.8227 - val_accuracy: 0.4900\n",
            "Epoch 17/100\n",
            "4/4 [==============================] - 0s 22ms/step - loss: 0.5453 - accuracy: 0.7200 - val_loss: 0.8333 - val_accuracy: 0.4800\n",
            "Epoch 18/100\n",
            "4/4 [==============================] - 0s 22ms/step - loss: 0.5489 - accuracy: 0.7000 - val_loss: 0.8390 - val_accuracy: 0.4700\n",
            "Epoch 19/100\n",
            "4/4 [==============================] - 0s 23ms/step - loss: 0.5504 - accuracy: 0.7000 - val_loss: 0.8278 - val_accuracy: 0.4800\n",
            "Epoch 20/100\n",
            "4/4 [==============================] - 0s 25ms/step - loss: 0.5461 - accuracy: 0.7100 - val_loss: 0.8241 - val_accuracy: 0.4900\n",
            "Epoch 21/100\n",
            "4/4 [==============================] - 0s 24ms/step - loss: 0.5496 - accuracy: 0.7400 - val_loss: 0.8301 - val_accuracy: 0.4900\n",
            "Epoch 22/100\n",
            "4/4 [==============================] - 0s 22ms/step - loss: 0.5515 - accuracy: 0.7400 - val_loss: 0.8327 - val_accuracy: 0.4900\n",
            "Epoch 23/100\n",
            "4/4 [==============================] - 0s 22ms/step - loss: 0.5438 - accuracy: 0.7300 - val_loss: 0.8423 - val_accuracy: 0.4800\n",
            "Epoch 24/100\n",
            "4/4 [==============================] - 0s 24ms/step - loss: 0.5471 - accuracy: 0.7200 - val_loss: 0.8418 - val_accuracy: 0.4800\n",
            "Epoch 25/100\n",
            "4/4 [==============================] - 0s 25ms/step - loss: 0.5460 - accuracy: 0.7200 - val_loss: 0.8384 - val_accuracy: 0.4800\n",
            "Epoch 26/100\n",
            "4/4 [==============================] - 0s 26ms/step - loss: 0.5451 - accuracy: 0.7300 - val_loss: 0.8374 - val_accuracy: 0.4800\n",
            "Epoch 27/100\n",
            "4/4 [==============================] - 0s 24ms/step - loss: 0.5516 - accuracy: 0.7400 - val_loss: 0.8423 - val_accuracy: 0.4900\n",
            "Epoch 28/100\n",
            "4/4 [==============================] - 0s 22ms/step - loss: 0.5572 - accuracy: 0.7200 - val_loss: 0.8456 - val_accuracy: 0.5000\n",
            "Epoch 29/100\n",
            "4/4 [==============================] - 0s 25ms/step - loss: 0.5546 - accuracy: 0.7300 - val_loss: 0.8430 - val_accuracy: 0.4800\n",
            "Epoch 30/100\n",
            "4/4 [==============================] - 0s 23ms/step - loss: 0.5480 - accuracy: 0.7400 - val_loss: 0.8435 - val_accuracy: 0.4900\n",
            "Epoch 31/100\n",
            "4/4 [==============================] - 0s 23ms/step - loss: 0.5458 - accuracy: 0.7200 - val_loss: 0.8515 - val_accuracy: 0.4900\n",
            "Epoch 32/100\n",
            "4/4 [==============================] - 0s 24ms/step - loss: 0.5460 - accuracy: 0.7200 - val_loss: 0.8517 - val_accuracy: 0.4800\n",
            "Epoch 33/100\n",
            "4/4 [==============================] - 0s 24ms/step - loss: 0.5453 - accuracy: 0.7200 - val_loss: 0.8482 - val_accuracy: 0.4800\n",
            "Epoch 34/100\n",
            "4/4 [==============================] - 0s 25ms/step - loss: 0.5493 - accuracy: 0.7200 - val_loss: 0.8581 - val_accuracy: 0.4800\n",
            "Epoch 35/100\n",
            "4/4 [==============================] - 0s 26ms/step - loss: 0.5696 - accuracy: 0.6800 - val_loss: 0.8780 - val_accuracy: 0.5200\n",
            "Epoch 36/100\n",
            "4/4 [==============================] - 0s 25ms/step - loss: 0.5592 - accuracy: 0.7000 - val_loss: 0.8572 - val_accuracy: 0.4700\n",
            "Epoch 37/100\n",
            "4/4 [==============================] - 0s 22ms/step - loss: 0.5482 - accuracy: 0.7000 - val_loss: 0.8407 - val_accuracy: 0.4900\n",
            "Epoch 38/100\n",
            "4/4 [==============================] - 0s 22ms/step - loss: 0.5409 - accuracy: 0.7300 - val_loss: 0.8452 - val_accuracy: 0.5100\n",
            "Epoch 39/100\n",
            "4/4 [==============================] - 0s 25ms/step - loss: 0.5645 - accuracy: 0.7200 - val_loss: 0.8361 - val_accuracy: 0.5000\n",
            "Epoch 40/100\n",
            "4/4 [==============================] - 0s 22ms/step - loss: 0.5442 - accuracy: 0.7400 - val_loss: 0.8390 - val_accuracy: 0.4800\n",
            "Epoch 41/100\n",
            "4/4 [==============================] - 0s 22ms/step - loss: 0.5496 - accuracy: 0.6900 - val_loss: 0.8785 - val_accuracy: 0.5300\n",
            "Epoch 42/100\n",
            "4/4 [==============================] - 0s 26ms/step - loss: 0.5703 - accuracy: 0.6700 - val_loss: 0.8391 - val_accuracy: 0.5000\n",
            "Epoch 43/100\n",
            "4/4 [==============================] - 0s 25ms/step - loss: 0.5430 - accuracy: 0.6900 - val_loss: 0.8160 - val_accuracy: 0.4900\n",
            "Epoch 44/100\n",
            "4/4 [==============================] - 0s 26ms/step - loss: 0.5525 - accuracy: 0.7400 - val_loss: 0.8261 - val_accuracy: 0.5000\n",
            "Epoch 45/100\n",
            "4/4 [==============================] - 0s 24ms/step - loss: 0.5594 - accuracy: 0.7200 - val_loss: 0.8174 - val_accuracy: 0.4900\n",
            "Epoch 46/100\n",
            "4/4 [==============================] - 0s 25ms/step - loss: 0.5477 - accuracy: 0.7400 - val_loss: 0.8236 - val_accuracy: 0.4800\n",
            "Epoch 47/100\n",
            "4/4 [==============================] - 0s 24ms/step - loss: 0.5410 - accuracy: 0.7300 - val_loss: 0.8290 - val_accuracy: 0.4800\n",
            "Epoch 48/100\n",
            "4/4 [==============================] - 0s 22ms/step - loss: 0.5547 - accuracy: 0.6900 - val_loss: 0.8428 - val_accuracy: 0.4700\n",
            "Epoch 49/100\n",
            "4/4 [==============================] - 0s 25ms/step - loss: 0.5456 - accuracy: 0.7100 - val_loss: 0.8334 - val_accuracy: 0.4800\n",
            "Epoch 50/100\n",
            "4/4 [==============================] - 0s 25ms/step - loss: 0.5461 - accuracy: 0.7200 - val_loss: 0.8380 - val_accuracy: 0.4700\n",
            "Epoch 51/100\n",
            "4/4 [==============================] - 0s 24ms/step - loss: 0.5437 - accuracy: 0.7100 - val_loss: 0.8231 - val_accuracy: 0.4900\n",
            "Epoch 52/100\n",
            "4/4 [==============================] - 0s 23ms/step - loss: 0.5425 - accuracy: 0.7400 - val_loss: 0.8224 - val_accuracy: 0.4800\n",
            "Epoch 53/100\n",
            "4/4 [==============================] - 0s 25ms/step - loss: 0.5424 - accuracy: 0.7500 - val_loss: 0.8203 - val_accuracy: 0.4900\n",
            "Epoch 54/100\n",
            "4/4 [==============================] - 0s 27ms/step - loss: 0.5381 - accuracy: 0.7500 - val_loss: 0.8239 - val_accuracy: 0.4800\n",
            "Epoch 55/100\n",
            "4/4 [==============================] - 0s 25ms/step - loss: 0.5409 - accuracy: 0.7100 - val_loss: 0.8242 - val_accuracy: 0.4800\n",
            "Epoch 56/100\n",
            "4/4 [==============================] - 0s 25ms/step - loss: 0.5377 - accuracy: 0.7400 - val_loss: 0.8229 - val_accuracy: 0.4700\n",
            "Epoch 57/100\n",
            "4/4 [==============================] - 0s 24ms/step - loss: 0.5387 - accuracy: 0.7300 - val_loss: 0.8317 - val_accuracy: 0.4800\n",
            "Epoch 58/100\n",
            "4/4 [==============================] - 0s 27ms/step - loss: 0.5391 - accuracy: 0.7200 - val_loss: 0.8313 - val_accuracy: 0.4800\n",
            "Epoch 59/100\n",
            "4/4 [==============================] - 0s 24ms/step - loss: 0.5373 - accuracy: 0.7100 - val_loss: 0.8311 - val_accuracy: 0.4700\n",
            "Epoch 60/100\n",
            "4/4 [==============================] - 0s 24ms/step - loss: 0.5367 - accuracy: 0.7500 - val_loss: 0.8316 - val_accuracy: 0.4800\n",
            "Epoch 61/100\n",
            "4/4 [==============================] - 0s 22ms/step - loss: 0.5482 - accuracy: 0.7300 - val_loss: 0.8375 - val_accuracy: 0.4900\n",
            "Epoch 62/100\n",
            "4/4 [==============================] - 0s 26ms/step - loss: 0.5432 - accuracy: 0.7400 - val_loss: 0.8381 - val_accuracy: 0.4900\n",
            "Epoch 63/100\n",
            "4/4 [==============================] - 0s 25ms/step - loss: 0.5348 - accuracy: 0.7500 - val_loss: 0.8514 - val_accuracy: 0.4800\n",
            "Epoch 64/100\n",
            "4/4 [==============================] - 0s 23ms/step - loss: 0.5495 - accuracy: 0.7000 - val_loss: 0.8822 - val_accuracy: 0.5100\n",
            "Epoch 65/100\n",
            "4/4 [==============================] - 0s 25ms/step - loss: 0.5559 - accuracy: 0.6900 - val_loss: 0.8568 - val_accuracy: 0.4800\n",
            "Epoch 66/100\n",
            "4/4 [==============================] - 0s 24ms/step - loss: 0.5380 - accuracy: 0.7100 - val_loss: 0.8449 - val_accuracy: 0.4800\n",
            "Epoch 67/100\n",
            "4/4 [==============================] - 0s 22ms/step - loss: 0.5357 - accuracy: 0.7400 - val_loss: 0.8459 - val_accuracy: 0.4800\n",
            "Epoch 68/100\n",
            "4/4 [==============================] - 0s 25ms/step - loss: 0.5363 - accuracy: 0.7400 - val_loss: 0.8470 - val_accuracy: 0.4900\n",
            "Epoch 69/100\n",
            "4/4 [==============================] - 0s 24ms/step - loss: 0.5416 - accuracy: 0.7500 - val_loss: 0.8513 - val_accuracy: 0.4800\n",
            "Epoch 70/100\n",
            "4/4 [==============================] - 0s 24ms/step - loss: 0.5406 - accuracy: 0.7600 - val_loss: 0.8528 - val_accuracy: 0.4700\n",
            "Epoch 71/100\n",
            "4/4 [==============================] - 0s 25ms/step - loss: 0.5359 - accuracy: 0.7400 - val_loss: 0.8561 - val_accuracy: 0.4700\n",
            "Epoch 72/100\n",
            "4/4 [==============================] - 0s 27ms/step - loss: 0.5379 - accuracy: 0.7100 - val_loss: 0.8616 - val_accuracy: 0.4800\n",
            "Epoch 73/100\n",
            "4/4 [==============================] - 0s 23ms/step - loss: 0.5357 - accuracy: 0.7300 - val_loss: 0.8588 - val_accuracy: 0.4900\n",
            "Epoch 74/100\n",
            "4/4 [==============================] - 0s 25ms/step - loss: 0.5371 - accuracy: 0.7600 - val_loss: 0.8609 - val_accuracy: 0.4800\n",
            "Epoch 75/100\n",
            "4/4 [==============================] - 0s 22ms/step - loss: 0.5366 - accuracy: 0.7600 - val_loss: 0.8638 - val_accuracy: 0.4900\n",
            "Epoch 76/100\n",
            "4/4 [==============================] - 0s 22ms/step - loss: 0.5327 - accuracy: 0.7500 - val_loss: 0.8710 - val_accuracy: 0.4800\n",
            "Epoch 77/100\n",
            "4/4 [==============================] - 0s 22ms/step - loss: 0.5366 - accuracy: 0.7400 - val_loss: 0.8638 - val_accuracy: 0.4900\n",
            "Epoch 78/100\n",
            "4/4 [==============================] - 0s 24ms/step - loss: 0.5369 - accuracy: 0.7600 - val_loss: 0.8661 - val_accuracy: 0.4800\n",
            "Epoch 79/100\n",
            "4/4 [==============================] - 0s 25ms/step - loss: 0.5409 - accuracy: 0.7300 - val_loss: 0.8635 - val_accuracy: 0.4900\n",
            "Epoch 80/100\n",
            "4/4 [==============================] - 0s 25ms/step - loss: 0.5328 - accuracy: 0.7700 - val_loss: 0.8682 - val_accuracy: 0.4700\n",
            "Epoch 81/100\n",
            "4/4 [==============================] - 0s 25ms/step - loss: 0.5409 - accuracy: 0.7100 - val_loss: 0.8917 - val_accuracy: 0.5200\n",
            "Epoch 82/100\n",
            "4/4 [==============================] - 0s 25ms/step - loss: 0.5551 - accuracy: 0.7100 - val_loss: 0.9073 - val_accuracy: 0.5200\n",
            "Epoch 83/100\n",
            "4/4 [==============================] - 0s 23ms/step - loss: 0.5617 - accuracy: 0.7000 - val_loss: 0.8702 - val_accuracy: 0.4700\n",
            "Epoch 84/100\n",
            "4/4 [==============================] - 0s 25ms/step - loss: 0.5275 - accuracy: 0.7200 - val_loss: 0.8583 - val_accuracy: 0.4900\n",
            "Epoch 85/100\n",
            "4/4 [==============================] - 0s 25ms/step - loss: 0.5343 - accuracy: 0.7600 - val_loss: 0.8558 - val_accuracy: 0.4800\n",
            "Epoch 86/100\n",
            "4/4 [==============================] - 0s 27ms/step - loss: 0.5297 - accuracy: 0.7400 - val_loss: 0.8627 - val_accuracy: 0.4600\n",
            "Epoch 87/100\n",
            "4/4 [==============================] - 0s 25ms/step - loss: 0.5396 - accuracy: 0.6900 - val_loss: 0.8620 - val_accuracy: 0.4600\n",
            "Epoch 88/100\n",
            "4/4 [==============================] - 0s 28ms/step - loss: 0.5364 - accuracy: 0.7000 - val_loss: 0.8463 - val_accuracy: 0.4700\n",
            "Epoch 89/100\n",
            "4/4 [==============================] - 0s 25ms/step - loss: 0.5319 - accuracy: 0.7400 - val_loss: 0.8458 - val_accuracy: 0.4700\n",
            "Epoch 90/100\n",
            "4/4 [==============================] - 0s 22ms/step - loss: 0.5305 - accuracy: 0.7800 - val_loss: 0.8492 - val_accuracy: 0.4700\n",
            "Epoch 91/100\n",
            "4/4 [==============================] - 0s 23ms/step - loss: 0.5304 - accuracy: 0.7400 - val_loss: 0.8546 - val_accuracy: 0.4800\n",
            "Epoch 92/100\n",
            "4/4 [==============================] - 0s 26ms/step - loss: 0.5303 - accuracy: 0.7500 - val_loss: 0.8519 - val_accuracy: 0.4700\n",
            "Epoch 93/100\n",
            "4/4 [==============================] - 0s 24ms/step - loss: 0.5412 - accuracy: 0.7800 - val_loss: 0.8585 - val_accuracy: 0.5000\n",
            "Epoch 94/100\n",
            "4/4 [==============================] - 0s 25ms/step - loss: 0.5504 - accuracy: 0.7300 - val_loss: 0.8594 - val_accuracy: 0.5100\n",
            "Epoch 95/100\n",
            "4/4 [==============================] - 0s 24ms/step - loss: 0.5446 - accuracy: 0.7300 - val_loss: 0.8445 - val_accuracy: 0.4700\n",
            "Epoch 96/100\n",
            "4/4 [==============================] - 0s 25ms/step - loss: 0.5332 - accuracy: 0.7400 - val_loss: 0.8569 - val_accuracy: 0.4600\n",
            "Epoch 97/100\n",
            "4/4 [==============================] - 0s 24ms/step - loss: 0.5381 - accuracy: 0.7000 - val_loss: 0.8572 - val_accuracy: 0.4800\n",
            "Epoch 98/100\n",
            "4/4 [==============================] - 0s 27ms/step - loss: 0.5330 - accuracy: 0.7100 - val_loss: 0.8428 - val_accuracy: 0.4700\n",
            "Epoch 99/100\n",
            "4/4 [==============================] - 0s 25ms/step - loss: 0.5280 - accuracy: 0.7800 - val_loss: 0.8483 - val_accuracy: 0.4900\n",
            "Epoch 100/100\n",
            "4/4 [==============================] - 0s 24ms/step - loss: 0.5403 - accuracy: 0.7200 - val_loss: 0.8453 - val_accuracy: 0.4800\n"
          ],
          "name": "stdout"
        }
      ]
    },
    {
      "cell_type": "code",
      "metadata": {
        "colab": {
          "base_uri": "https://localhost:8080/"
        },
        "id": "WG5jqpaJIbTZ",
        "outputId": "071f75a1-7797-4bda-abf0-fa063de3e4e8"
      },
      "source": [
        "\n",
        "test_loss, test_acc = cnn_model.evaluate(x_test, y_test, verbose=2)"
      ],
      "execution_count": 54,
      "outputs": [
        {
          "output_type": "stream",
          "text": [
            "4/4 - 0s - loss: 0.8453 - accuracy: 0.4800\n"
          ],
          "name": "stdout"
        }
      ]
    },
    {
      "cell_type": "code",
      "metadata": {
        "id": "5tOY3cBKK5C3"
      },
      "source": [
        ""
      ],
      "execution_count": null,
      "outputs": []
    },
    {
      "cell_type": "markdown",
      "metadata": {
        "id": "_6csyEWBK6oi"
      },
      "source": [
        "# QConv Layer"
      ]
    },
    {
      "cell_type": "code",
      "metadata": {
        "id": "QbWqiJw0K5L_"
      },
      "source": [
        "class QConv(tf.keras.layers.Layer):\n",
        "    def __init__(self, filter_size, depth, activation=None, name=None, kernel_regularizer=None, **kwangs):\n",
        "        super(QConv, self).__init__(name=name, **kwangs)\n",
        "        self.filter_size = filter_size\n",
        "        self.depth = depth\n",
        "        self.learning_params = []\n",
        "        self.QCNN_layer_gen()\n",
        "        # self.circuit_tensor = tfq.convert_to_tensor([self.circuit])\n",
        "        self.activation = tf.keras.layers.Activation(activation)\n",
        "        self.kernel_regularizer = kernel_regularizer\n",
        "\n",
        "    def _next_qubit_set(self, original_size, next_size, qubits):\n",
        "        step = original_size // next_size\n",
        "        qubit_list = []\n",
        "        for i in range(0, original_size, step):\n",
        "            for j in range(0, original_size, step):\n",
        "                qubit_list.append(qubits[original_size*i + j])\n",
        "        return qubit_list\n",
        "\n",
        "    def _get_new_param(self):\n",
        "        \"\"\"\n",
        "        return new learnable parameter\n",
        "        all returned parameter saved in self.learning_params\n",
        "        \"\"\"\n",
        "        new_param = sympy.symbols(\"p\"+str(len(self.learning_params)))\n",
        "        self.learning_params.append(new_param)\n",
        "        return new_param\n",
        "    \n",
        "    def _QConv(self, step, target, qubits):\n",
        "        \"\"\"\n",
        "        apply learnable gates each quantum convolutional layer level\n",
        "        \"\"\"\n",
        "        yield cirq.CZPowGate(exponent=self._get_new_param())(qubits[target], qubits[target+step])\n",
        "        yield cirq.CXPowGate(exponent=self._get_new_param())(qubits[target], qubits[target+step])\n",
        "        \n",
        "    def QCNN_layer_gen(self):\n",
        "        \"\"\"\n",
        "        make quantum convolutional layer in QConv layer\n",
        "        \"\"\"\n",
        "        pixels = self.filter_size**2\n",
        "        # filter size: 2^n only for this version!\n",
        "        if np.log2(pixels) % 1 != 0:\n",
        "            raise NotImplementedError(\"filter size: 2^n only available\")\n",
        "        cirq_qubits = cirq.GridQubit.rect(self.filter_size, self.filter_size)\n",
        "        # mapping input data to circuit\n",
        "        input_circuit = cirq.Circuit()\n",
        "        input_params = [sympy.symbols('a%d' %i) for i in range(pixels)]\n",
        "        for i, qubit in enumerate(cirq_qubits):\n",
        "            input_circuit.append(cirq.rx(np.pi*input_params[i])(qubit))\n",
        "        # apply learnable gate set to QCNN circuit\n",
        "        QCNN_circuit = cirq.Circuit()\n",
        "        step_size = [2**i for i in range(np.log2(pixels).astype(np.int32))]\n",
        "        for step in step_size:\n",
        "            for target in range(0, pixels, 2*step):\n",
        "                QCNN_circuit.append(self._QConv(step, target, cirq_qubits))\n",
        "        # merge the circuits\n",
        "        full_circuit = cirq.Circuit()\n",
        "        full_circuit.append(input_circuit)\n",
        "        full_circuit.append(QCNN_circuit)\n",
        "        self.circuit = full_circuit # save circuit to the QCNN layer obj.\n",
        "        self.params = input_params + self.learning_params\n",
        "        self.op = cirq.Z(cirq_qubits[0])\n",
        "        \n",
        "    def build(self, input_shape):\n",
        "        self.width = input_shape[1]\n",
        "        self.height = input_shape[2]\n",
        "        self.channel = input_shape[3]\n",
        "        self.num_x = self.width - self.filter_size + 1\n",
        "        self.num_y = self.height - self.filter_size + 1\n",
        "        \n",
        "        self.kernel = self.add_weight(name=\"kenel\", \n",
        "                                      shape=[self.depth, \n",
        "                                             self.channel, \n",
        "                                             len(self.learning_params)],\n",
        "                                     initializer=tf.keras.initializers.glorot_normal(),\n",
        "                                     regularizer=self.kernel_regularizer)\n",
        "        self.circuit_tensor = tfq.convert_to_tensor([self.circuit] * self.num_x * self.num_y * self.channel)\n",
        "        \n",
        "    def call(self, inputs):\n",
        "        # input shape: [N, width, height, channel]\n",
        "        # slide and collect data\n",
        "        stack_set = None\n",
        "        for i in range(self.num_x):\n",
        "            for j in range(self.num_y):\n",
        "                slice_part = tf.slice(inputs, [0, i, j, 0], [-1, self.filter_size, self.filter_size, -1])\n",
        "                slice_part = tf.reshape(slice_part, shape=[-1, 1, self.filter_size, self.filter_size, self.channel])\n",
        "                if stack_set == None:\n",
        "                    stack_set = slice_part\n",
        "                else:\n",
        "                    stack_set = tf.concat([stack_set, slice_part], 1)  \n",
        "        # -> shape: [N, num_x*num_y, filter_size, filter_size, channel]\n",
        "        stack_set = tf.transpose(stack_set, perm=[0, 1, 4, 2, 3])\n",
        "        # -> shape: [N, num_x*num_y, channel, filter_size, fiter_size]\n",
        "        stack_set = tf.reshape(stack_set, shape=[-1, self.filter_size**2])\n",
        "        # -> shape: [N*num_x*num_y*channel, filter_size^2]\n",
        "        \n",
        "        # total input citcuits: N * num_x * num_y * channel\n",
        "        circuit_inputs = tf.tile([self.circuit_tensor], [tf.shape(inputs)[0], 1])\n",
        "        circuit_inputs = tf.reshape(circuit_inputs, shape=[-1])\n",
        "        tf.fill([tf.shape(inputs)[0]*self.num_x*self.num_y, 1], 1)\n",
        "        outputs = []\n",
        "        for i in range(self.depth):\n",
        "            controller = tf.tile(self.kernel[i], [tf.shape(inputs)[0]*self.num_x*self.num_y, 1])\n",
        "            outputs.append(self.single_depth_QCNN(stack_set, controller, circuit_inputs))\n",
        "            # shape: [N, num_x, num_y] \n",
        "            \n",
        "        output_tensor = tf.stack(outputs, axis=3)\n",
        "        output_tensor = tf.math.acos(tf.clip_by_value(output_tensor, -1+1e-5, 1-1e-5)) / np.pi\n",
        "        # output_tensor = tf.clip_by_value(tf.math.acos(output_tensor)/np.pi, -1, 1)\n",
        "        return self.activation(output_tensor)\n",
        "          \n",
        "    def single_depth_QCNN(self, input_data, controller, circuit_inputs):\n",
        "        \"\"\"\n",
        "        make QCNN for 1 channel only\n",
        "        \"\"\"\n",
        "        # input shape: [N*num_x*num_y*channel, filter_size^2]\n",
        "        # controller shape: [N*num_x*num_y*channel, len(learning_params)]\n",
        "        input_data = tf.concat([input_data, controller], 1)\n",
        "        # input_data shape: [N*num_x*num_y*channel, len(learning_params)]\n",
        "        QCNN_output = tfq.layers.Expectation()(circuit_inputs, \n",
        "                                               symbol_names=self.params,\n",
        "                                               symbol_values=input_data,\n",
        "                                               operators=self.op)\n",
        "        # QCNN_output shape: [N*num_x*num_y*channel]\n",
        "        QCNN_output = tf.reshape(QCNN_output, shape=[-1, self.num_x, self.num_y, self.channel])\n",
        "        return tf.math.reduce_sum(QCNN_output, 3)\n",
        "        \n",
        "    "
      ],
      "execution_count": 23,
      "outputs": []
    },
    {
      "cell_type": "code",
      "metadata": {
        "id": "AZwa5i82v9R7"
      },
      "source": [
        ""
      ],
      "execution_count": null,
      "outputs": []
    },
    {
      "cell_type": "code",
      "metadata": {
        "id": "yz2FsWI1v6K0"
      },
      "source": [
        ""
      ],
      "execution_count": null,
      "outputs": []
    },
    {
      "cell_type": "code",
      "metadata": {
        "id": "XDs_cZPULBOs"
      },
      "source": [
        "\n",
        "width = np.shape(x_train)[1]\n",
        "height = np.shape(x_train)[2]\n",
        "\n",
        "qcnn_model = models.Sequential()\n",
        "\n",
        "\n",
        "qcnn_model.add(QConv(filter_size=2, depth=8, activation='relu', \n",
        "                     name='qconv1', input_shape=(width, height, 1)))\n",
        "\n",
        "\n",
        "qcnn_model.add(layers.Flatten())\n",
        "qcnn_model.add(layers.Dense(32, activation='relu'))\n",
        "qcnn_model.add(layers.Dense(2, activation='softmax'))"
      ],
      "execution_count": 24,
      "outputs": []
    },
    {
      "cell_type": "code",
      "metadata": {
        "colab": {
          "base_uri": "https://localhost:8080/"
        },
        "id": "S061NK5WLF_J",
        "outputId": "94010bb1-b7d3-4290-b35b-2d970d12d923"
      },
      "source": [
        "qcnn_model.summary()"
      ],
      "execution_count": 25,
      "outputs": [
        {
          "output_type": "stream",
          "text": [
            "Model: \"sequential_3\"\n",
            "_________________________________________________________________\n",
            "Layer (type)                 Output Shape              Param #   \n",
            "=================================================================\n",
            "qconv1 (QConv)               (None, 31, 31, 8)         48        \n",
            "_________________________________________________________________\n",
            "flatten_2 (Flatten)          (None, 7688)              0         \n",
            "_________________________________________________________________\n",
            "dense_4 (Dense)              (None, 32)                246048    \n",
            "_________________________________________________________________\n",
            "dense_5 (Dense)              (None, 2)                 66        \n",
            "=================================================================\n",
            "Total params: 246,162\n",
            "Trainable params: 246,162\n",
            "Non-trainable params: 0\n",
            "_________________________________________________________________\n"
          ],
          "name": "stdout"
        }
      ]
    },
    {
      "cell_type": "code",
      "metadata": {
        "colab": {
          "base_uri": "https://localhost:8080/",
          "height": 221
        },
        "id": "hgH2V2puLRoB",
        "outputId": "d8a15ac8-5c13-47d3-b930-b8e1af60b47f"
      },
      "source": [
        "SVGCircuit(QConv(filter_size=2, depth=0, activation='relu').circuit)"
      ],
      "execution_count": 26,
      "outputs": [
        {
          "output_type": "execute_result",
          "data": {
            "text/plain": [
              "<cirq.contrib.svg.svg.SVGCircuit at 0x7f3ebd27c890>"
            ],
            "image/svg+xml": "<svg xmlns=\"http://www.w3.org/2000/svg\" width=\"606.96109375\" height=\"200.0\"><line x1=\"34.7588671875\" x2=\"576.96109375\" y1=\"25.0\" y2=\"25.0\" stroke=\"#1967d2\" stroke-width=\"1\" /><line x1=\"34.7588671875\" x2=\"576.96109375\" y1=\"75.0\" y2=\"75.0\" stroke=\"#1967d2\" stroke-width=\"1\" /><line x1=\"34.7588671875\" x2=\"576.96109375\" y1=\"125.0\" y2=\"125.0\" stroke=\"#1967d2\" stroke-width=\"1\" /><line x1=\"34.7588671875\" x2=\"576.96109375\" y1=\"175.0\" y2=\"175.0\" stroke=\"#1967d2\" stroke-width=\"1\" /><line x1=\"324.25851562500003\" x2=\"324.25851562500003\" y1=\"25.0\" y2=\"75.0\" stroke=\"black\" stroke-width=\"3\" /><line x1=\"324.25851562500003\" x2=\"324.25851562500003\" y1=\"125.0\" y2=\"175.0\" stroke=\"black\" stroke-width=\"3\" /><line x1=\"393.88220703125\" x2=\"393.88220703125\" y1=\"25.0\" y2=\"75.0\" stroke=\"black\" stroke-width=\"3\" /><line x1=\"393.88220703125\" x2=\"393.88220703125\" y1=\"125.0\" y2=\"175.0\" stroke=\"black\" stroke-width=\"3\" /><line x1=\"463.5780859375\" x2=\"463.5780859375\" y1=\"25.0\" y2=\"125.0\" stroke=\"black\" stroke-width=\"3\" /><line x1=\"533.22365234375\" x2=\"533.22365234375\" y1=\"25.0\" y2=\"125.0\" stroke=\"black\" stroke-width=\"3\" /><rect x=\"10.0\" y=\"5.0\" width=\"49.517734375\" height=\"40\" stroke=\"black\" fill=\"white\" stroke-width=\"0\" /><text x=\"34.7588671875\" y=\"25.0\" dominant-baseline=\"middle\" text-anchor=\"middle\" font-size=\"14px\" font-family=\"Arial\">(0, 0): </text><rect x=\"10.0\" y=\"55.0\" width=\"49.517734375\" height=\"40\" stroke=\"black\" fill=\"white\" stroke-width=\"0\" /><text x=\"34.7588671875\" y=\"75.0\" dominant-baseline=\"middle\" text-anchor=\"middle\" font-size=\"14px\" font-family=\"Arial\">(0, 1): </text><rect x=\"10.0\" y=\"105.0\" width=\"49.517734375\" height=\"40\" stroke=\"black\" fill=\"white\" stroke-width=\"0\" /><text x=\"34.7588671875\" y=\"125.0\" dominant-baseline=\"middle\" text-anchor=\"middle\" font-size=\"14px\" font-family=\"Arial\">(1, 0): </text><rect x=\"10.0\" y=\"155.0\" width=\"49.517734375\" height=\"40\" stroke=\"black\" fill=\"white\" stroke-width=\"0\" /><text x=\"34.7588671875\" y=\"175.0\" dominant-baseline=\"middle\" text-anchor=\"middle\" font-size=\"14px\" font-family=\"Arial\">(1, 1): </text><rect x=\"79.51773437499999\" y=\"5.0\" width=\"198.90484375000003\" height=\"40\" stroke=\"black\" fill=\"white\" stroke-width=\"1\" /><text x=\"178.97015625\" y=\"25.0\" dominant-baseline=\"middle\" text-anchor=\"middle\" font-size=\"14px\" font-family=\"Arial\">Rx(3.14159265358979*a0)</text><rect x=\"79.51773437499999\" y=\"55.0\" width=\"198.90484375000003\" height=\"40\" stroke=\"black\" fill=\"white\" stroke-width=\"1\" /><text x=\"178.97015625\" y=\"75.0\" dominant-baseline=\"middle\" text-anchor=\"middle\" font-size=\"14px\" font-family=\"Arial\">Rx(3.14159265358979*a1)</text><rect x=\"79.51773437499999\" y=\"105.0\" width=\"198.90484375000003\" height=\"40\" stroke=\"black\" fill=\"white\" stroke-width=\"1\" /><text x=\"178.97015625\" y=\"125.0\" dominant-baseline=\"middle\" text-anchor=\"middle\" font-size=\"14px\" font-family=\"Arial\">Rx(3.14159265358979*a2)</text><rect x=\"79.51773437499999\" y=\"155.0\" width=\"198.90484375000003\" height=\"40\" stroke=\"black\" fill=\"white\" stroke-width=\"1\" /><text x=\"178.97015625\" y=\"175.0\" dominant-baseline=\"middle\" text-anchor=\"middle\" font-size=\"14px\" font-family=\"Arial\">Rx(3.14159265358979*a3)</text><circle cx=\"324.25851562500003\" cy=\"25.0\" r=\"10.0\" /><rect x=\"298.42257812500003\" y=\"55.0\" width=\"51.671875\" height=\"40\" stroke=\"black\" fill=\"white\" stroke-width=\"1\" /><text x=\"324.25851562500003\" y=\"75.0\" dominant-baseline=\"middle\" text-anchor=\"middle\" font-size=\"14px\" font-family=\"Arial\">@^p0</text><circle cx=\"324.25851562500003\" cy=\"125.0\" r=\"10.0\" /><rect x=\"298.42257812500003\" y=\"155.0\" width=\"51.671875\" height=\"40\" stroke=\"black\" fill=\"white\" stroke-width=\"1\" /><text x=\"324.25851562500003\" y=\"175.0\" dominant-baseline=\"middle\" text-anchor=\"middle\" font-size=\"14px\" font-family=\"Arial\">@^p2</text><circle cx=\"393.88220703125\" cy=\"25.0\" r=\"10.0\" /><rect x=\"370.094453125\" y=\"55.0\" width=\"47.57550781250001\" height=\"40\" stroke=\"black\" fill=\"white\" stroke-width=\"1\" /><text x=\"393.88220703125\" y=\"75.0\" dominant-baseline=\"middle\" text-anchor=\"middle\" font-size=\"14px\" font-family=\"Arial\">X^p1</text><circle cx=\"393.88220703125\" cy=\"125.0\" r=\"10.0\" /><rect x=\"370.094453125\" y=\"155.0\" width=\"47.57550781250001\" height=\"40\" stroke=\"black\" fill=\"white\" stroke-width=\"1\" /><text x=\"393.88220703125\" y=\"175.0\" dominant-baseline=\"middle\" text-anchor=\"middle\" font-size=\"14px\" font-family=\"Arial\">X^p3</text><circle cx=\"463.5780859375\" cy=\"25.0\" r=\"10.0\" /><rect x=\"437.66996093750004\" y=\"105.0\" width=\"51.81625\" height=\"40\" stroke=\"black\" fill=\"white\" stroke-width=\"1\" /><text x=\"463.5780859375\" y=\"125.0\" dominant-baseline=\"middle\" text-anchor=\"middle\" font-size=\"14px\" font-family=\"Arial\">@^p4</text><circle cx=\"533.22365234375\" cy=\"25.0\" r=\"10.0\" /><rect x=\"509.4862109375\" y=\"105.0\" width=\"47.4748828125\" height=\"40\" stroke=\"black\" fill=\"white\" stroke-width=\"1\" /><text x=\"533.22365234375\" y=\"125.0\" dominant-baseline=\"middle\" text-anchor=\"middle\" font-size=\"14px\" font-family=\"Arial\">X^p5</text></svg>"
          },
          "metadata": {
            "tags": []
          },
          "execution_count": 26
        }
      ]
    },
    {
      "cell_type": "code",
      "metadata": {
        "colab": {
          "base_uri": "https://localhost:8080/",
          "height": 533
        },
        "id": "NIXiJH22LRrG",
        "outputId": "706cdc88-bb34-4ca5-fcd8-59517cf92908"
      },
      "source": [
        "\n",
        "import pydot\n",
        "import graphviz\n",
        "from tensorflow.keras.utils import plot_model\n",
        "\n",
        "plot_model(qcnn_model, to_file='model_shapes.png', show_shapes=True)"
      ],
      "execution_count": 21,
      "outputs": [
        {
          "output_type": "execute_result",
          "data": {
            "image/png": "[encoded data removed]",
            "text/plain": [
              "<IPython.core.display.Image object>"
            ]
          },
          "metadata": {
            "tags": []
          },
          "execution_count": 21
        }
      ]
    },
    {
      "cell_type": "code",
      "metadata": {
        "colab": {
          "base_uri": "https://localhost:8080/"
        },
        "id": "JkrbapzMLRux",
        "outputId": "a5d5befb-007a-4752-ad36-cc4133d0da86"
      },
      "source": [
        "qcnn_model.compile(optimizer=tf.keras.optimizers.Adam(),loss='sparse_categorical_crossentropy',metrics=['accuracy'])\n",
        "\n",
        "qcnn_history = qcnn_model.fit(x_train, y_train,validation_data=(x_test, y_test), epochs=50)"
      ],
      "execution_count": 115,
      "outputs": [
        {
          "output_type": "stream",
          "text": [
            "Epoch 1/50\n",
            "4/4 [==============================] - 139s 35s/step - loss: 0.6924 - accuracy: 0.5600 - val_loss: 0.6997 - val_accuracy: 0.4600\n",
            "Epoch 2/50\n",
            "4/4 [==============================] - 129s 32s/step - loss: 0.6839 - accuracy: 0.5600 - val_loss: 0.7133 - val_accuracy: 0.4600\n",
            "Epoch 3/50\n",
            "4/4 [==============================] - 130s 32s/step - loss: 0.6820 - accuracy: 0.5600 - val_loss: 0.7229 - val_accuracy: 0.4600\n",
            "Epoch 4/50\n",
            "4/4 [==============================] - 138s 34s/step - loss: 0.6786 - accuracy: 0.5600 - val_loss: 0.7231 - val_accuracy: 0.4600\n",
            "Epoch 5/50\n",
            "4/4 [==============================] - 132s 33s/step - loss: 0.6729 - accuracy: 0.5600 - val_loss: 0.7104 - val_accuracy: 0.4600\n",
            "Epoch 6/50\n",
            "4/4 [==============================] - 130s 32s/step - loss: 0.6654 - accuracy: 0.5600 - val_loss: 0.7092 - val_accuracy: 0.4700\n",
            "Epoch 7/50\n",
            "4/4 [==============================] - 130s 33s/step - loss: 0.6599 - accuracy: 0.5600 - val_loss: 0.7158 - val_accuracy: 0.4700\n",
            "Epoch 8/50\n",
            "4/4 [==============================] - 129s 32s/step - loss: 0.6574 - accuracy: 0.5700 - val_loss: 0.7213 - val_accuracy: 0.4700\n",
            "Epoch 9/50\n",
            "4/4 [==============================] - 130s 32s/step - loss: 0.6541 - accuracy: 0.5800 - val_loss: 0.7211 - val_accuracy: 0.4700\n",
            "Epoch 10/50\n",
            "4/4 [==============================] - 129s 32s/step - loss: 0.6494 - accuracy: 0.5800 - val_loss: 0.7169 - val_accuracy: 0.4700\n",
            "Epoch 11/50\n",
            "4/4 [==============================] - 129s 32s/step - loss: 0.6416 - accuracy: 0.6000 - val_loss: 0.7057 - val_accuracy: 0.4600\n",
            "Epoch 12/50\n",
            "4/4 [==============================] - 130s 32s/step - loss: 0.6397 - accuracy: 0.6300 - val_loss: 0.6983 - val_accuracy: 0.5200\n",
            "Epoch 13/50\n",
            "4/4 [==============================] - 129s 32s/step - loss: 0.6359 - accuracy: 0.6700 - val_loss: 0.6992 - val_accuracy: 0.5200\n",
            "Epoch 14/50\n",
            "4/4 [==============================] - 129s 32s/step - loss: 0.6307 - accuracy: 0.6600 - val_loss: 0.7065 - val_accuracy: 0.4800\n",
            "Epoch 15/50\n",
            "4/4 [==============================] - 130s 32s/step - loss: 0.6264 - accuracy: 0.6200 - val_loss: 0.7124 - val_accuracy: 0.4700\n",
            "Epoch 16/50\n",
            "4/4 [==============================] - 129s 32s/step - loss: 0.6227 - accuracy: 0.6300 - val_loss: 0.7076 - val_accuracy: 0.4900\n",
            "Epoch 17/50\n",
            "4/4 [==============================] - 131s 33s/step - loss: 0.6176 - accuracy: 0.6600 - val_loss: 0.6984 - val_accuracy: 0.5400\n",
            "Epoch 18/50\n",
            "4/4 [==============================] - 129s 32s/step - loss: 0.6146 - accuracy: 0.6700 - val_loss: 0.6949 - val_accuracy: 0.5100\n",
            "Epoch 19/50\n",
            "4/4 [==============================] - 129s 32s/step - loss: 0.6160 - accuracy: 0.7000 - val_loss: 0.6957 - val_accuracy: 0.5200\n",
            "Epoch 20/50\n",
            "4/4 [==============================] - 130s 32s/step - loss: 0.6109 - accuracy: 0.7100 - val_loss: 0.7005 - val_accuracy: 0.5300\n",
            "Epoch 21/50\n",
            "4/4 [==============================] - 130s 33s/step - loss: 0.6058 - accuracy: 0.6700 - val_loss: 0.7099 - val_accuracy: 0.5200\n",
            "Epoch 22/50\n",
            "4/4 [==============================] - 130s 32s/step - loss: 0.5998 - accuracy: 0.6400 - val_loss: 0.7225 - val_accuracy: 0.4900\n",
            "Epoch 23/50\n",
            "4/4 [==============================] - 134s 33s/step - loss: 0.5987 - accuracy: 0.6500 - val_loss: 0.7233 - val_accuracy: 0.5000\n",
            "Epoch 24/50\n",
            "4/4 [==============================] - 129s 32s/step - loss: 0.5922 - accuracy: 0.6600 - val_loss: 0.7122 - val_accuracy: 0.5400\n",
            "Epoch 25/50\n",
            "4/4 [==============================] - 129s 32s/step - loss: 0.5871 - accuracy: 0.6700 - val_loss: 0.7065 - val_accuracy: 0.5200\n",
            "Epoch 26/50\n",
            "4/4 [==============================] - 130s 32s/step - loss: 0.5908 - accuracy: 0.7200 - val_loss: 0.7047 - val_accuracy: 0.5400\n",
            "Epoch 27/50\n",
            "4/4 [==============================] - 131s 33s/step - loss: 0.5830 - accuracy: 0.7200 - val_loss: 0.7126 - val_accuracy: 0.5300\n",
            "Epoch 28/50\n",
            "4/4 [==============================] - 129s 32s/step - loss: 0.5799 - accuracy: 0.7200 - val_loss: 0.7341 - val_accuracy: 0.4900\n",
            "Epoch 29/50\n",
            "4/4 [==============================] - 130s 32s/step - loss: 0.5812 - accuracy: 0.6700 - val_loss: 0.7382 - val_accuracy: 0.4900\n",
            "Epoch 30/50\n",
            "4/4 [==============================] - 131s 33s/step - loss: 0.5798 - accuracy: 0.6700 - val_loss: 0.7308 - val_accuracy: 0.5300\n",
            "Epoch 31/50\n",
            "4/4 [==============================] - 130s 32s/step - loss: 0.5746 - accuracy: 0.6700 - val_loss: 0.7268 - val_accuracy: 0.5300\n",
            "Epoch 32/50\n",
            "4/4 [==============================] - 130s 32s/step - loss: 0.5720 - accuracy: 0.6900 - val_loss: 0.7201 - val_accuracy: 0.5300\n",
            "Epoch 33/50\n",
            "4/4 [==============================] - 128s 32s/step - loss: 0.5684 - accuracy: 0.7300 - val_loss: 0.7172 - val_accuracy: 0.5400\n",
            "Epoch 34/50\n",
            "4/4 [==============================] - 130s 32s/step - loss: 0.5646 - accuracy: 0.7100 - val_loss: 0.7239 - val_accuracy: 0.5300\n",
            "Epoch 35/50\n",
            "4/4 [==============================] - 129s 32s/step - loss: 0.5633 - accuracy: 0.7100 - val_loss: 0.7300 - val_accuracy: 0.5300\n",
            "Epoch 36/50\n",
            "4/4 [==============================] - 130s 32s/step - loss: 0.5619 - accuracy: 0.7100 - val_loss: 0.7298 - val_accuracy: 0.5300\n",
            "Epoch 37/50\n",
            "4/4 [==============================] - 130s 33s/step - loss: 0.5588 - accuracy: 0.7100 - val_loss: 0.7298 - val_accuracy: 0.5400\n",
            "Epoch 38/50\n",
            "4/4 [==============================] - 131s 33s/step - loss: 0.5563 - accuracy: 0.6900 - val_loss: 0.7294 - val_accuracy: 0.5400\n",
            "Epoch 39/50\n",
            "4/4 [==============================] - 131s 33s/step - loss: 0.5557 - accuracy: 0.7000 - val_loss: 0.7284 - val_accuracy: 0.5400\n",
            "Epoch 40/50\n",
            "4/4 [==============================] - 130s 33s/step - loss: 0.5537 - accuracy: 0.7200 - val_loss: 0.7399 - val_accuracy: 0.5300\n",
            "Epoch 41/50\n",
            "4/4 [==============================] - 131s 33s/step - loss: 0.5540 - accuracy: 0.7000 - val_loss: 0.7404 - val_accuracy: 0.5300\n",
            "Epoch 42/50\n",
            "4/4 [==============================] - 130s 33s/step - loss: 0.5524 - accuracy: 0.6800 - val_loss: 0.7322 - val_accuracy: 0.5300\n",
            "Epoch 43/50\n",
            "4/4 [==============================] - 131s 33s/step - loss: 0.5472 - accuracy: 0.7200 - val_loss: 0.7407 - val_accuracy: 0.5400\n",
            "Epoch 44/50\n",
            "4/4 [==============================] - 130s 33s/step - loss: 0.5480 - accuracy: 0.7000 - val_loss: 0.7467 - val_accuracy: 0.5200\n",
            "Epoch 45/50\n",
            "4/4 [==============================] - 130s 32s/step - loss: 0.5469 - accuracy: 0.7100 - val_loss: 0.7361 - val_accuracy: 0.5200\n",
            "Epoch 46/50\n",
            "4/4 [==============================] - 130s 33s/step - loss: 0.5461 - accuracy: 0.7200 - val_loss: 0.7329 - val_accuracy: 0.5500\n",
            "Epoch 47/50\n",
            "4/4 [==============================] - 132s 33s/step - loss: 0.5420 - accuracy: 0.7200 - val_loss: 0.7379 - val_accuracy: 0.5300\n",
            "Epoch 48/50\n",
            "4/4 [==============================] - 130s 33s/step - loss: 0.5397 - accuracy: 0.7200 - val_loss: 0.7399 - val_accuracy: 0.5300\n",
            "Epoch 49/50\n",
            "4/4 [==============================] - 129s 32s/step - loss: 0.5376 - accuracy: 0.7200 - val_loss: 0.7430 - val_accuracy: 0.5200\n",
            "Epoch 50/50\n",
            "4/4 [==============================] - 132s 33s/step - loss: 0.5370 - accuracy: 0.7200 - val_loss: 0.7418 - val_accuracy: 0.5400\n"
          ],
          "name": "stdout"
        }
      ]
    },
    {
      "cell_type": "code",
      "metadata": {
        "id": "oarNY6A0rrYg"
      },
      "source": [
        "    \n",
        "def plot_loss_curves(qcnn_loss_train,qcnn_loss_test):\n",
        "  fig = plt.figure()\n",
        "  plt.plot(np.arange(len(qcnn_loss_train))[::2] + 1, qcnn_loss_train[::2], \"b*-\", label=\"train\")\n",
        "  plt.plot(np.arange(len(qcnn_loss_test))[::2] + 1, qcnn_loss_test[::2], \"r*-\", label=\"test\")\n",
        "  plt.gca().xaxis.set_major_locator(mpl.ticker.MaxNLocator(integer=True))\n",
        "  plt.axis([1, 50, 0, 1])\n",
        "  plt.legend(fontsize=14)\n",
        "  plt.xlabel(\"Epochs\")\n",
        "  plt.ylabel(\"loss\")\n",
        "  plt.grid(True)\n",
        "  fig.savefig('loss.png', dpi=300)"
      ],
      "execution_count": 149,
      "outputs": []
    },
    {
      "cell_type": "code",
      "metadata": {
        "colab": {
          "base_uri": "https://localhost:8080/",
          "height": 283
        },
        "id": "eeGKdIN6ryEO",
        "outputId": "714187b5-df15-4005-eb0a-9d650b2b2b89"
      },
      "source": [
        "plot_loss_curves(qcnn_history.history['loss'],qcnn_history.history['val_loss'])\n"
      ],
      "execution_count": 150,
      "outputs": [
        {
          "output_type": "display_data",
          "data": {
            "image/png": "[encoded data removed]",
            "text/plain": [
              "<Figure size 432x288 with 1 Axes>"
            ]
          },
          "metadata": {
            "tags": [],
            "needs_background": "light"
          }
        }
      ]
    },
    {
      "cell_type": "code",
      "metadata": {
        "id": "vDIzq65mrySY"
      },
      "source": [
        "def plot_acc_curves(qcnn_acc_train,qcnn_acc_test):\n",
        "    fig = plt.figure()\n",
        "    plt.plot(np.arange(len(qcnn_acc_train))[::2] + 1, qcnn_acc_train[::2], \"b^-\", label=\"train\")\n",
        "    plt.plot(np.arange(len(qcnn_acc_test))[::2] + 1, qcnn_acc_test[::2], \"r^-\", label=\"test\")\n",
        "    plt.gca().xaxis.set_major_locator(mpl.ticker.MaxNLocator(integer=True))\n",
        "    plt.grid()\n",
        "    plt.axis([1, 50, 0, 1])\n",
        "    plt.legend(fontsize=14)\n",
        "    plt.xlabel(\"Epochs\")\n",
        "    plt.ylabel(\"Accuracy\")\n",
        "    fig.savefig('accuracy.png', dpi=300)"
      ],
      "execution_count": 153,
      "outputs": []
    },
    {
      "cell_type": "code",
      "metadata": {
        "colab": {
          "base_uri": "https://localhost:8080/",
          "height": 283
        },
        "id": "OI3Gm6wurrlj",
        "outputId": "d4a80784-1858-4392-a86e-81e0027b226c"
      },
      "source": [
        "plot_acc_curves(qcnn_history.history['accuracy'],qcnn_history.history['val_accuracy'])"
      ],
      "execution_count": 154,
      "outputs": [
        {
          "output_type": "display_data",
          "data": {
            "image/png": "[encoded data removed]",
            "text/plain": [
              "<Figure size 432x288 with 1 Axes>"
            ]
          },
          "metadata": {
            "tags": [],
            "needs_background": "light"
          }
        }
      ]
    },
    {
      "cell_type": "code",
      "metadata": {
        "id": "tFuryrHUt2-l"
      },
      "source": [
        ""
      ],
      "execution_count": null,
      "outputs": []
    }
  ]
}